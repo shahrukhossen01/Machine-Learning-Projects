{
  "cells": [
    {
      "cell_type": "code",
      "execution_count": 1,
      "id": "e190e0ce",
      "metadata": {
        "id": "e190e0ce"
      },
      "outputs": [],
      "source": [
        "import pandas as pd\n",
        "import numpy as np\n",
        "import matplotlib.pyplot as plt"
      ]
    },
    {
      "cell_type": "code",
      "source": [
        "from sklearn import svm"
      ],
      "metadata": {
        "id": "KTM_JKmF1rqW"
      },
      "id": "KTM_JKmF1rqW",
      "execution_count": 2,
      "outputs": []
    },
    {
      "cell_type": "code",
      "execution_count": 3,
      "id": "8f68a644",
      "metadata": {
        "id": "8f68a644"
      },
      "outputs": [],
      "source": [
        "df = pd.read_csv('/content/svm data.csv')"
      ]
    },
    {
      "cell_type": "code",
      "execution_count": 4,
      "id": "25c7bb90",
      "metadata": {
        "colab": {
          "base_uri": "https://localhost:8080/",
          "height": 206
        },
        "id": "25c7bb90",
        "outputId": "1ebfdeba-0616-419c-83ed-77005b01fab8"
      },
      "outputs": [
        {
          "output_type": "execute_result",
          "data": {
            "text/plain": [
              "   Unnamed: 0  feature1  feature2  label_y\n",
              "0           0  8.660254  -5.00000        0\n",
              "1           1  8.717792  -4.89899        0\n",
              "2           2  8.773790  -4.79798        0\n",
              "3           3  8.828277  -4.69697        0\n",
              "4           4  8.881281  -4.59596        0"
            ],
            "text/html": [
              "\n",
              "  <div id=\"df-6823080a-3b0f-45b7-a3aa-26a7f9b8b178\">\n",
              "    <div class=\"colab-df-container\">\n",
              "      <div>\n",
              "<style scoped>\n",
              "    .dataframe tbody tr th:only-of-type {\n",
              "        vertical-align: middle;\n",
              "    }\n",
              "\n",
              "    .dataframe tbody tr th {\n",
              "        vertical-align: top;\n",
              "    }\n",
              "\n",
              "    .dataframe thead th {\n",
              "        text-align: right;\n",
              "    }\n",
              "</style>\n",
              "<table border=\"1\" class=\"dataframe\">\n",
              "  <thead>\n",
              "    <tr style=\"text-align: right;\">\n",
              "      <th></th>\n",
              "      <th>Unnamed: 0</th>\n",
              "      <th>feature1</th>\n",
              "      <th>feature2</th>\n",
              "      <th>label_y</th>\n",
              "    </tr>\n",
              "  </thead>\n",
              "  <tbody>\n",
              "    <tr>\n",
              "      <th>0</th>\n",
              "      <td>0</td>\n",
              "      <td>8.660254</td>\n",
              "      <td>-5.00000</td>\n",
              "      <td>0</td>\n",
              "    </tr>\n",
              "    <tr>\n",
              "      <th>1</th>\n",
              "      <td>1</td>\n",
              "      <td>8.717792</td>\n",
              "      <td>-4.89899</td>\n",
              "      <td>0</td>\n",
              "    </tr>\n",
              "    <tr>\n",
              "      <th>2</th>\n",
              "      <td>2</td>\n",
              "      <td>8.773790</td>\n",
              "      <td>-4.79798</td>\n",
              "      <td>0</td>\n",
              "    </tr>\n",
              "    <tr>\n",
              "      <th>3</th>\n",
              "      <td>3</td>\n",
              "      <td>8.828277</td>\n",
              "      <td>-4.69697</td>\n",
              "      <td>0</td>\n",
              "    </tr>\n",
              "    <tr>\n",
              "      <th>4</th>\n",
              "      <td>4</td>\n",
              "      <td>8.881281</td>\n",
              "      <td>-4.59596</td>\n",
              "      <td>0</td>\n",
              "    </tr>\n",
              "  </tbody>\n",
              "</table>\n",
              "</div>\n",
              "      <button class=\"colab-df-convert\" onclick=\"convertToInteractive('df-6823080a-3b0f-45b7-a3aa-26a7f9b8b178')\"\n",
              "              title=\"Convert this dataframe to an interactive table.\"\n",
              "              style=\"display:none;\">\n",
              "        \n",
              "  <svg xmlns=\"http://www.w3.org/2000/svg\" height=\"24px\"viewBox=\"0 0 24 24\"\n",
              "       width=\"24px\">\n",
              "    <path d=\"M0 0h24v24H0V0z\" fill=\"none\"/>\n",
              "    <path d=\"M18.56 5.44l.94 2.06.94-2.06 2.06-.94-2.06-.94-.94-2.06-.94 2.06-2.06.94zm-11 1L8.5 8.5l.94-2.06 2.06-.94-2.06-.94L8.5 2.5l-.94 2.06-2.06.94zm10 10l.94 2.06.94-2.06 2.06-.94-2.06-.94-.94-2.06-.94 2.06-2.06.94z\"/><path d=\"M17.41 7.96l-1.37-1.37c-.4-.4-.92-.59-1.43-.59-.52 0-1.04.2-1.43.59L10.3 9.45l-7.72 7.72c-.78.78-.78 2.05 0 2.83L4 21.41c.39.39.9.59 1.41.59.51 0 1.02-.2 1.41-.59l7.78-7.78 2.81-2.81c.8-.78.8-2.07 0-2.86zM5.41 20L4 18.59l7.72-7.72 1.47 1.35L5.41 20z\"/>\n",
              "  </svg>\n",
              "      </button>\n",
              "      \n",
              "  <style>\n",
              "    .colab-df-container {\n",
              "      display:flex;\n",
              "      flex-wrap:wrap;\n",
              "      gap: 12px;\n",
              "    }\n",
              "\n",
              "    .colab-df-convert {\n",
              "      background-color: #E8F0FE;\n",
              "      border: none;\n",
              "      border-radius: 50%;\n",
              "      cursor: pointer;\n",
              "      display: none;\n",
              "      fill: #1967D2;\n",
              "      height: 32px;\n",
              "      padding: 0 0 0 0;\n",
              "      width: 32px;\n",
              "    }\n",
              "\n",
              "    .colab-df-convert:hover {\n",
              "      background-color: #E2EBFA;\n",
              "      box-shadow: 0px 1px 2px rgba(60, 64, 67, 0.3), 0px 1px 3px 1px rgba(60, 64, 67, 0.15);\n",
              "      fill: #174EA6;\n",
              "    }\n",
              "\n",
              "    [theme=dark] .colab-df-convert {\n",
              "      background-color: #3B4455;\n",
              "      fill: #D2E3FC;\n",
              "    }\n",
              "\n",
              "    [theme=dark] .colab-df-convert:hover {\n",
              "      background-color: #434B5C;\n",
              "      box-shadow: 0px 1px 3px 1px rgba(0, 0, 0, 0.15);\n",
              "      filter: drop-shadow(0px 1px 2px rgba(0, 0, 0, 0.3));\n",
              "      fill: #FFFFFF;\n",
              "    }\n",
              "  </style>\n",
              "\n",
              "      <script>\n",
              "        const buttonEl =\n",
              "          document.querySelector('#df-6823080a-3b0f-45b7-a3aa-26a7f9b8b178 button.colab-df-convert');\n",
              "        buttonEl.style.display =\n",
              "          google.colab.kernel.accessAllowed ? 'block' : 'none';\n",
              "\n",
              "        async function convertToInteractive(key) {\n",
              "          const element = document.querySelector('#df-6823080a-3b0f-45b7-a3aa-26a7f9b8b178');\n",
              "          const dataTable =\n",
              "            await google.colab.kernel.invokeFunction('convertToInteractive',\n",
              "                                                     [key], {});\n",
              "          if (!dataTable) return;\n",
              "\n",
              "          const docLinkHtml = 'Like what you see? Visit the ' +\n",
              "            '<a target=\"_blank\" href=https://colab.research.google.com/notebooks/data_table.ipynb>data table notebook</a>'\n",
              "            + ' to learn more about interactive tables.';\n",
              "          element.innerHTML = '';\n",
              "          dataTable['output_type'] = 'display_data';\n",
              "          await google.colab.output.renderOutput(dataTable, element);\n",
              "          const docLink = document.createElement('div');\n",
              "          docLink.innerHTML = docLinkHtml;\n",
              "          element.appendChild(docLink);\n",
              "        }\n",
              "      </script>\n",
              "    </div>\n",
              "  </div>\n",
              "  "
            ]
          },
          "metadata": {},
          "execution_count": 4
        }
      ],
      "source": [
        "df.head()"
      ]
    },
    {
      "cell_type": "code",
      "execution_count": 5,
      "id": "d90ccbcc",
      "metadata": {
        "id": "d90ccbcc"
      },
      "outputs": [],
      "source": [
        "df = df.drop('Unnamed: 0',axis=1)"
      ]
    },
    {
      "cell_type": "code",
      "execution_count": 6,
      "id": "3026b775",
      "metadata": {
        "colab": {
          "base_uri": "https://localhost:8080/",
          "height": 206
        },
        "id": "3026b775",
        "outputId": "5204f4f2-7e73-4b0c-b494-1433027aaf8c"
      },
      "outputs": [
        {
          "output_type": "execute_result",
          "data": {
            "text/plain": [
              "   feature1  feature2  label_y\n",
              "0  8.660254  -5.00000        0\n",
              "1  8.717792  -4.89899        0\n",
              "2  8.773790  -4.79798        0\n",
              "3  8.828277  -4.69697        0\n",
              "4  8.881281  -4.59596        0"
            ],
            "text/html": [
              "\n",
              "  <div id=\"df-a2c7d7f0-89de-427a-ae74-0a20faffa762\">\n",
              "    <div class=\"colab-df-container\">\n",
              "      <div>\n",
              "<style scoped>\n",
              "    .dataframe tbody tr th:only-of-type {\n",
              "        vertical-align: middle;\n",
              "    }\n",
              "\n",
              "    .dataframe tbody tr th {\n",
              "        vertical-align: top;\n",
              "    }\n",
              "\n",
              "    .dataframe thead th {\n",
              "        text-align: right;\n",
              "    }\n",
              "</style>\n",
              "<table border=\"1\" class=\"dataframe\">\n",
              "  <thead>\n",
              "    <tr style=\"text-align: right;\">\n",
              "      <th></th>\n",
              "      <th>feature1</th>\n",
              "      <th>feature2</th>\n",
              "      <th>label_y</th>\n",
              "    </tr>\n",
              "  </thead>\n",
              "  <tbody>\n",
              "    <tr>\n",
              "      <th>0</th>\n",
              "      <td>8.660254</td>\n",
              "      <td>-5.00000</td>\n",
              "      <td>0</td>\n",
              "    </tr>\n",
              "    <tr>\n",
              "      <th>1</th>\n",
              "      <td>8.717792</td>\n",
              "      <td>-4.89899</td>\n",
              "      <td>0</td>\n",
              "    </tr>\n",
              "    <tr>\n",
              "      <th>2</th>\n",
              "      <td>8.773790</td>\n",
              "      <td>-4.79798</td>\n",
              "      <td>0</td>\n",
              "    </tr>\n",
              "    <tr>\n",
              "      <th>3</th>\n",
              "      <td>8.828277</td>\n",
              "      <td>-4.69697</td>\n",
              "      <td>0</td>\n",
              "    </tr>\n",
              "    <tr>\n",
              "      <th>4</th>\n",
              "      <td>8.881281</td>\n",
              "      <td>-4.59596</td>\n",
              "      <td>0</td>\n",
              "    </tr>\n",
              "  </tbody>\n",
              "</table>\n",
              "</div>\n",
              "      <button class=\"colab-df-convert\" onclick=\"convertToInteractive('df-a2c7d7f0-89de-427a-ae74-0a20faffa762')\"\n",
              "              title=\"Convert this dataframe to an interactive table.\"\n",
              "              style=\"display:none;\">\n",
              "        \n",
              "  <svg xmlns=\"http://www.w3.org/2000/svg\" height=\"24px\"viewBox=\"0 0 24 24\"\n",
              "       width=\"24px\">\n",
              "    <path d=\"M0 0h24v24H0V0z\" fill=\"none\"/>\n",
              "    <path d=\"M18.56 5.44l.94 2.06.94-2.06 2.06-.94-2.06-.94-.94-2.06-.94 2.06-2.06.94zm-11 1L8.5 8.5l.94-2.06 2.06-.94-2.06-.94L8.5 2.5l-.94 2.06-2.06.94zm10 10l.94 2.06.94-2.06 2.06-.94-2.06-.94-.94-2.06-.94 2.06-2.06.94z\"/><path d=\"M17.41 7.96l-1.37-1.37c-.4-.4-.92-.59-1.43-.59-.52 0-1.04.2-1.43.59L10.3 9.45l-7.72 7.72c-.78.78-.78 2.05 0 2.83L4 21.41c.39.39.9.59 1.41.59.51 0 1.02-.2 1.41-.59l7.78-7.78 2.81-2.81c.8-.78.8-2.07 0-2.86zM5.41 20L4 18.59l7.72-7.72 1.47 1.35L5.41 20z\"/>\n",
              "  </svg>\n",
              "      </button>\n",
              "      \n",
              "  <style>\n",
              "    .colab-df-container {\n",
              "      display:flex;\n",
              "      flex-wrap:wrap;\n",
              "      gap: 12px;\n",
              "    }\n",
              "\n",
              "    .colab-df-convert {\n",
              "      background-color: #E8F0FE;\n",
              "      border: none;\n",
              "      border-radius: 50%;\n",
              "      cursor: pointer;\n",
              "      display: none;\n",
              "      fill: #1967D2;\n",
              "      height: 32px;\n",
              "      padding: 0 0 0 0;\n",
              "      width: 32px;\n",
              "    }\n",
              "\n",
              "    .colab-df-convert:hover {\n",
              "      background-color: #E2EBFA;\n",
              "      box-shadow: 0px 1px 2px rgba(60, 64, 67, 0.3), 0px 1px 3px 1px rgba(60, 64, 67, 0.15);\n",
              "      fill: #174EA6;\n",
              "    }\n",
              "\n",
              "    [theme=dark] .colab-df-convert {\n",
              "      background-color: #3B4455;\n",
              "      fill: #D2E3FC;\n",
              "    }\n",
              "\n",
              "    [theme=dark] .colab-df-convert:hover {\n",
              "      background-color: #434B5C;\n",
              "      box-shadow: 0px 1px 3px 1px rgba(0, 0, 0, 0.15);\n",
              "      filter: drop-shadow(0px 1px 2px rgba(0, 0, 0, 0.3));\n",
              "      fill: #FFFFFF;\n",
              "    }\n",
              "  </style>\n",
              "\n",
              "      <script>\n",
              "        const buttonEl =\n",
              "          document.querySelector('#df-a2c7d7f0-89de-427a-ae74-0a20faffa762 button.colab-df-convert');\n",
              "        buttonEl.style.display =\n",
              "          google.colab.kernel.accessAllowed ? 'block' : 'none';\n",
              "\n",
              "        async function convertToInteractive(key) {\n",
              "          const element = document.querySelector('#df-a2c7d7f0-89de-427a-ae74-0a20faffa762');\n",
              "          const dataTable =\n",
              "            await google.colab.kernel.invokeFunction('convertToInteractive',\n",
              "                                                     [key], {});\n",
              "          if (!dataTable) return;\n",
              "\n",
              "          const docLinkHtml = 'Like what you see? Visit the ' +\n",
              "            '<a target=\"_blank\" href=https://colab.research.google.com/notebooks/data_table.ipynb>data table notebook</a>'\n",
              "            + ' to learn more about interactive tables.';\n",
              "          element.innerHTML = '';\n",
              "          dataTable['output_type'] = 'display_data';\n",
              "          await google.colab.output.renderOutput(dataTable, element);\n",
              "          const docLink = document.createElement('div');\n",
              "          docLink.innerHTML = docLinkHtml;\n",
              "          element.appendChild(docLink);\n",
              "        }\n",
              "      </script>\n",
              "    </div>\n",
              "  </div>\n",
              "  "
            ]
          },
          "metadata": {},
          "execution_count": 6
        }
      ],
      "source": [
        "df.head()"
      ]
    },
    {
      "cell_type": "code",
      "execution_count": 7,
      "id": "91d6f584",
      "metadata": {
        "colab": {
          "base_uri": "https://localhost:8080/",
          "height": 282
        },
        "id": "91d6f584",
        "outputId": "72429cb4-39b6-4a50-9e9f-953c6ef7daea"
      },
      "outputs": [
        {
          "output_type": "execute_result",
          "data": {
            "text/plain": [
              "<matplotlib.collections.PathCollection at 0x7f8c8ca38c50>"
            ]
          },
          "metadata": {},
          "execution_count": 7
        },
        {
          "output_type": "display_data",
          "data": {
            "text/plain": [
              "<Figure size 432x288 with 1 Axes>"
            ],
            "image/png": "[encoded data removed]"
          },
          "metadata": {
            "needs_background": "light"
          }
        }
      ],
      "source": [
        "#viz\n",
        "plt.scatter(df.feature1 , df.feature2)"
      ]
    },
    {
      "cell_type": "code",
      "execution_count": 8,
      "id": "597353fe",
      "metadata": {
        "colab": {
          "base_uri": "https://localhost:8080/",
          "height": 282
        },
        "id": "597353fe",
        "outputId": "247f44d7-fef1-4431-d560-7616e3cec9e8"
      },
      "outputs": [
        {
          "output_type": "execute_result",
          "data": {
            "text/plain": [
              "<matplotlib.legend.Legend at 0x7f8c8c533450>"
            ]
          },
          "metadata": {},
          "execution_count": 8
        },
        {
          "output_type": "display_data",
          "data": {
            "text/plain": [
              "<Figure size 432x288 with 1 Axes>"
            ],
            "image/png": "[encoded data removed]"
          },
          "metadata": {
            "needs_background": "light"
          }
        }
      ],
      "source": [
        "df1 = df[df.label_y == 0]\n",
        "df2 = df[df.label_y == 1]\n",
        "\n",
        "plt.scatter(df1.feature1 , df1.feature2, color='green', label='class 0')\n",
        "plt.scatter(df2.feature1 , df2.feature2, color='red', label='class 1')\n",
        "\n",
        "plt.legend()"
      ]
    },
    {
      "cell_type": "code",
      "execution_count": 9,
      "id": "5ea8b4a5",
      "metadata": {
        "colab": {
          "base_uri": "https://localhost:8080/",
          "height": 282
        },
        "id": "5ea8b4a5",
        "outputId": "2700cad4-5f2b-4ffd-8253-e59cd653037e"
      },
      "outputs": [
        {
          "output_type": "execute_result",
          "data": {
            "text/plain": [
              "<matplotlib.legend.Legend at 0x7f8c8c4cab90>"
            ]
          },
          "metadata": {},
          "execution_count": 9
        },
        {
          "output_type": "display_data",
          "data": {
            "text/plain": [
              "<Figure size 576x288 with 1 Axes>"
            ],
            "image/png": "[encoded data removed]"
          },
          "metadata": {
            "needs_background": "light"
          }
        }
      ],
      "source": [
        "df1 = df[df.label_y == 0]\n",
        "df2 = df[df.label_y == 1]\n",
        "\n",
        "plt.figure(figsize=(8,4))\n",
        "plt.scatter(df1.feature1 , df1.feature2, color='green', label='class 0')\n",
        "plt.scatter(df2.feature1 , df2.feature2, color='red', label='class 1')\n",
        "\n",
        "plt.legend()"
      ]
    },
    {
      "cell_type": "code",
      "execution_count": 10,
      "id": "a156036e",
      "metadata": {
        "id": "a156036e"
      },
      "outputs": [],
      "source": [
        "from sklearn.model_selection import train_test_split"
      ]
    },
    {
      "cell_type": "code",
      "execution_count": 13,
      "id": "dcf4fedf",
      "metadata": {
        "id": "dcf4fedf"
      },
      "outputs": [],
      "source": [
        "train,test= train_test_split(df, test_size=.30, random_state=100 )"
      ]
    },
    {
      "cell_type": "code",
      "execution_count": 14,
      "id": "98f1a9bf",
      "metadata": {
        "colab": {
          "base_uri": "https://localhost:8080/",
          "height": 424
        },
        "id": "98f1a9bf",
        "outputId": "6471daa4-0ce8-4943-ab43-909e3e007176"
      },
      "outputs": [
        {
          "output_type": "execute_result",
          "data": {
            "text/plain": [
              "     feature1  feature2  label_y\n",
              "234  4.748549 -1.565657        1\n",
              "45   9.989664 -0.454545        0\n",
              "171 -9.761334 -2.171717        0\n",
              "47   9.996811 -0.252525        0\n",
              "265  4.748549  1.565657        1\n",
              "..        ...       ...      ...\n",
              "343 -4.956705  0.656566        1\n",
              "359 -4.907054 -0.959596        1\n",
              "323 -4.223140  2.676768        1\n",
              "280  3.938099  3.080808        1\n",
              "8    9.078976 -4.191919        0\n",
              "\n",
              "[280 rows x 3 columns]"
            ],
            "text/html": [
              "\n",
              "  <div id=\"df-02fcb62b-3a53-440f-bf03-98f3d213688c\">\n",
              "    <div class=\"colab-df-container\">\n",
              "      <div>\n",
              "<style scoped>\n",
              "    .dataframe tbody tr th:only-of-type {\n",
              "        vertical-align: middle;\n",
              "    }\n",
              "\n",
              "    .dataframe tbody tr th {\n",
              "        vertical-align: top;\n",
              "    }\n",
              "\n",
              "    .dataframe thead th {\n",
              "        text-align: right;\n",
              "    }\n",
              "</style>\n",
              "<table border=\"1\" class=\"dataframe\">\n",
              "  <thead>\n",
              "    <tr style=\"text-align: right;\">\n",
              "      <th></th>\n",
              "      <th>feature1</th>\n",
              "      <th>feature2</th>\n",
              "      <th>label_y</th>\n",
              "    </tr>\n",
              "  </thead>\n",
              "  <tbody>\n",
              "    <tr>\n",
              "      <th>234</th>\n",
              "      <td>4.748549</td>\n",
              "      <td>-1.565657</td>\n",
              "      <td>1</td>\n",
              "    </tr>\n",
              "    <tr>\n",
              "      <th>45</th>\n",
              "      <td>9.989664</td>\n",
              "      <td>-0.454545</td>\n",
              "      <td>0</td>\n",
              "    </tr>\n",
              "    <tr>\n",
              "      <th>171</th>\n",
              "      <td>-9.761334</td>\n",
              "      <td>-2.171717</td>\n",
              "      <td>0</td>\n",
              "    </tr>\n",
              "    <tr>\n",
              "      <th>47</th>\n",
              "      <td>9.996811</td>\n",
              "      <td>-0.252525</td>\n",
              "      <td>0</td>\n",
              "    </tr>\n",
              "    <tr>\n",
              "      <th>265</th>\n",
              "      <td>4.748549</td>\n",
              "      <td>1.565657</td>\n",
              "      <td>1</td>\n",
              "    </tr>\n",
              "    <tr>\n",
              "      <th>...</th>\n",
              "      <td>...</td>\n",
              "      <td>...</td>\n",
              "      <td>...</td>\n",
              "    </tr>\n",
              "    <tr>\n",
              "      <th>343</th>\n",
              "      <td>-4.956705</td>\n",
              "      <td>0.656566</td>\n",
              "      <td>1</td>\n",
              "    </tr>\n",
              "    <tr>\n",
              "      <th>359</th>\n",
              "      <td>-4.907054</td>\n",
              "      <td>-0.959596</td>\n",
              "      <td>1</td>\n",
              "    </tr>\n",
              "    <tr>\n",
              "      <th>323</th>\n",
              "      <td>-4.223140</td>\n",
              "      <td>2.676768</td>\n",
              "      <td>1</td>\n",
              "    </tr>\n",
              "    <tr>\n",
              "      <th>280</th>\n",
              "      <td>3.938099</td>\n",
              "      <td>3.080808</td>\n",
              "      <td>1</td>\n",
              "    </tr>\n",
              "    <tr>\n",
              "      <th>8</th>\n",
              "      <td>9.078976</td>\n",
              "      <td>-4.191919</td>\n",
              "      <td>0</td>\n",
              "    </tr>\n",
              "  </tbody>\n",
              "</table>\n",
              "<p>280 rows × 3 columns</p>\n",
              "</div>\n",
              "      <button class=\"colab-df-convert\" onclick=\"convertToInteractive('df-02fcb62b-3a53-440f-bf03-98f3d213688c')\"\n",
              "              title=\"Convert this dataframe to an interactive table.\"\n",
              "              style=\"display:none;\">\n",
              "        \n",
              "  <svg xmlns=\"http://www.w3.org/2000/svg\" height=\"24px\"viewBox=\"0 0 24 24\"\n",
              "       width=\"24px\">\n",
              "    <path d=\"M0 0h24v24H0V0z\" fill=\"none\"/>\n",
              "    <path d=\"M18.56 5.44l.94 2.06.94-2.06 2.06-.94-2.06-.94-.94-2.06-.94 2.06-2.06.94zm-11 1L8.5 8.5l.94-2.06 2.06-.94-2.06-.94L8.5 2.5l-.94 2.06-2.06.94zm10 10l.94 2.06.94-2.06 2.06-.94-2.06-.94-.94-2.06-.94 2.06-2.06.94z\"/><path d=\"M17.41 7.96l-1.37-1.37c-.4-.4-.92-.59-1.43-.59-.52 0-1.04.2-1.43.59L10.3 9.45l-7.72 7.72c-.78.78-.78 2.05 0 2.83L4 21.41c.39.39.9.59 1.41.59.51 0 1.02-.2 1.41-.59l7.78-7.78 2.81-2.81c.8-.78.8-2.07 0-2.86zM5.41 20L4 18.59l7.72-7.72 1.47 1.35L5.41 20z\"/>\n",
              "  </svg>\n",
              "      </button>\n",
              "      \n",
              "  <style>\n",
              "    .colab-df-container {\n",
              "      display:flex;\n",
              "      flex-wrap:wrap;\n",
              "      gap: 12px;\n",
              "    }\n",
              "\n",
              "    .colab-df-convert {\n",
              "      background-color: #E8F0FE;\n",
              "      border: none;\n",
              "      border-radius: 50%;\n",
              "      cursor: pointer;\n",
              "      display: none;\n",
              "      fill: #1967D2;\n",
              "      height: 32px;\n",
              "      padding: 0 0 0 0;\n",
              "      width: 32px;\n",
              "    }\n",
              "\n",
              "    .colab-df-convert:hover {\n",
              "      background-color: #E2EBFA;\n",
              "      box-shadow: 0px 1px 2px rgba(60, 64, 67, 0.3), 0px 1px 3px 1px rgba(60, 64, 67, 0.15);\n",
              "      fill: #174EA6;\n",
              "    }\n",
              "\n",
              "    [theme=dark] .colab-df-convert {\n",
              "      background-color: #3B4455;\n",
              "      fill: #D2E3FC;\n",
              "    }\n",
              "\n",
              "    [theme=dark] .colab-df-convert:hover {\n",
              "      background-color: #434B5C;\n",
              "      box-shadow: 0px 1px 3px 1px rgba(0, 0, 0, 0.15);\n",
              "      filter: drop-shadow(0px 1px 2px rgba(0, 0, 0, 0.3));\n",
              "      fill: #FFFFFF;\n",
              "    }\n",
              "  </style>\n",
              "\n",
              "      <script>\n",
              "        const buttonEl =\n",
              "          document.querySelector('#df-02fcb62b-3a53-440f-bf03-98f3d213688c button.colab-df-convert');\n",
              "        buttonEl.style.display =\n",
              "          google.colab.kernel.accessAllowed ? 'block' : 'none';\n",
              "\n",
              "        async function convertToInteractive(key) {\n",
              "          const element = document.querySelector('#df-02fcb62b-3a53-440f-bf03-98f3d213688c');\n",
              "          const dataTable =\n",
              "            await google.colab.kernel.invokeFunction('convertToInteractive',\n",
              "                                                     [key], {});\n",
              "          if (!dataTable) return;\n",
              "\n",
              "          const docLinkHtml = 'Like what you see? Visit the ' +\n",
              "            '<a target=\"_blank\" href=https://colab.research.google.com/notebooks/data_table.ipynb>data table notebook</a>'\n",
              "            + ' to learn more about interactive tables.';\n",
              "          element.innerHTML = '';\n",
              "          dataTable['output_type'] = 'display_data';\n",
              "          await google.colab.output.renderOutput(dataTable, element);\n",
              "          const docLink = document.createElement('div');\n",
              "          docLink.innerHTML = docLinkHtml;\n",
              "          element.appendChild(docLink);\n",
              "        }\n",
              "      </script>\n",
              "    </div>\n",
              "  </div>\n",
              "  "
            ]
          },
          "metadata": {},
          "execution_count": 14
        }
      ],
      "source": [
        "train"
      ]
    },
    {
      "cell_type": "code",
      "execution_count": 15,
      "id": "84bad5ae",
      "metadata": {
        "colab": {
          "base_uri": "https://localhost:8080/",
          "height": 424
        },
        "id": "84bad5ae",
        "outputId": "012e153d-65aa-47c2-b419-2f6ae4c74b60"
      },
      "outputs": [
        {
          "output_type": "execute_result",
          "data": {
            "text/plain": [
              "     feature1  feature2  label_y\n",
              "248  4.997704 -0.151515        1\n",
              "318 -3.856946  3.181818        1\n",
              "173 -9.714184 -2.373737        0\n",
              "285  3.484482  3.585859        1\n",
              "184 -9.373144 -3.484848        0\n",
              "..        ...       ...      ...\n",
              "80   9.513602  3.080808        0\n",
              "157 -9.971263 -0.757576        0\n",
              "300 -0.000000  5.000000        1\n",
              "31   9.823849 -1.868687        0\n",
              "204  1.969049 -4.595960        1\n",
              "\n",
              "[120 rows x 3 columns]"
            ],
            "text/html": [
              "\n",
              "  <div id=\"df-d7ec4bee-a418-4b70-81f3-213cf1bcf91d\">\n",
              "    <div class=\"colab-df-container\">\n",
              "      <div>\n",
              "<style scoped>\n",
              "    .dataframe tbody tr th:only-of-type {\n",
              "        vertical-align: middle;\n",
              "    }\n",
              "\n",
              "    .dataframe tbody tr th {\n",
              "        vertical-align: top;\n",
              "    }\n",
              "\n",
              "    .dataframe thead th {\n",
              "        text-align: right;\n",
              "    }\n",
              "</style>\n",
              "<table border=\"1\" class=\"dataframe\">\n",
              "  <thead>\n",
              "    <tr style=\"text-align: right;\">\n",
              "      <th></th>\n",
              "      <th>feature1</th>\n",
              "      <th>feature2</th>\n",
              "      <th>label_y</th>\n",
              "    </tr>\n",
              "  </thead>\n",
              "  <tbody>\n",
              "    <tr>\n",
              "      <th>248</th>\n",
              "      <td>4.997704</td>\n",
              "      <td>-0.151515</td>\n",
              "      <td>1</td>\n",
              "    </tr>\n",
              "    <tr>\n",
              "      <th>318</th>\n",
              "      <td>-3.856946</td>\n",
              "      <td>3.181818</td>\n",
              "      <td>1</td>\n",
              "    </tr>\n",
              "    <tr>\n",
              "      <th>173</th>\n",
              "      <td>-9.714184</td>\n",
              "      <td>-2.373737</td>\n",
              "      <td>0</td>\n",
              "    </tr>\n",
              "    <tr>\n",
              "      <th>285</th>\n",
              "      <td>3.484482</td>\n",
              "      <td>3.585859</td>\n",
              "      <td>1</td>\n",
              "    </tr>\n",
              "    <tr>\n",
              "      <th>184</th>\n",
              "      <td>-9.373144</td>\n",
              "      <td>-3.484848</td>\n",
              "      <td>0</td>\n",
              "    </tr>\n",
              "    <tr>\n",
              "      <th>...</th>\n",
              "      <td>...</td>\n",
              "      <td>...</td>\n",
              "      <td>...</td>\n",
              "    </tr>\n",
              "    <tr>\n",
              "      <th>80</th>\n",
              "      <td>9.513602</td>\n",
              "      <td>3.080808</td>\n",
              "      <td>0</td>\n",
              "    </tr>\n",
              "    <tr>\n",
              "      <th>157</th>\n",
              "      <td>-9.971263</td>\n",
              "      <td>-0.757576</td>\n",
              "      <td>0</td>\n",
              "    </tr>\n",
              "    <tr>\n",
              "      <th>300</th>\n",
              "      <td>-0.000000</td>\n",
              "      <td>5.000000</td>\n",
              "      <td>1</td>\n",
              "    </tr>\n",
              "    <tr>\n",
              "      <th>31</th>\n",
              "      <td>9.823849</td>\n",
              "      <td>-1.868687</td>\n",
              "      <td>0</td>\n",
              "    </tr>\n",
              "    <tr>\n",
              "      <th>204</th>\n",
              "      <td>1.969049</td>\n",
              "      <td>-4.595960</td>\n",
              "      <td>1</td>\n",
              "    </tr>\n",
              "  </tbody>\n",
              "</table>\n",
              "<p>120 rows × 3 columns</p>\n",
              "</div>\n",
              "      <button class=\"colab-df-convert\" onclick=\"convertToInteractive('df-d7ec4bee-a418-4b70-81f3-213cf1bcf91d')\"\n",
              "              title=\"Convert this dataframe to an interactive table.\"\n",
              "              style=\"display:none;\">\n",
              "        \n",
              "  <svg xmlns=\"http://www.w3.org/2000/svg\" height=\"24px\"viewBox=\"0 0 24 24\"\n",
              "       width=\"24px\">\n",
              "    <path d=\"M0 0h24v24H0V0z\" fill=\"none\"/>\n",
              "    <path d=\"M18.56 5.44l.94 2.06.94-2.06 2.06-.94-2.06-.94-.94-2.06-.94 2.06-2.06.94zm-11 1L8.5 8.5l.94-2.06 2.06-.94-2.06-.94L8.5 2.5l-.94 2.06-2.06.94zm10 10l.94 2.06.94-2.06 2.06-.94-2.06-.94-.94-2.06-.94 2.06-2.06.94z\"/><path d=\"M17.41 7.96l-1.37-1.37c-.4-.4-.92-.59-1.43-.59-.52 0-1.04.2-1.43.59L10.3 9.45l-7.72 7.72c-.78.78-.78 2.05 0 2.83L4 21.41c.39.39.9.59 1.41.59.51 0 1.02-.2 1.41-.59l7.78-7.78 2.81-2.81c.8-.78.8-2.07 0-2.86zM5.41 20L4 18.59l7.72-7.72 1.47 1.35L5.41 20z\"/>\n",
              "  </svg>\n",
              "      </button>\n",
              "      \n",
              "  <style>\n",
              "    .colab-df-container {\n",
              "      display:flex;\n",
              "      flex-wrap:wrap;\n",
              "      gap: 12px;\n",
              "    }\n",
              "\n",
              "    .colab-df-convert {\n",
              "      background-color: #E8F0FE;\n",
              "      border: none;\n",
              "      border-radius: 50%;\n",
              "      cursor: pointer;\n",
              "      display: none;\n",
              "      fill: #1967D2;\n",
              "      height: 32px;\n",
              "      padding: 0 0 0 0;\n",
              "      width: 32px;\n",
              "    }\n",
              "\n",
              "    .colab-df-convert:hover {\n",
              "      background-color: #E2EBFA;\n",
              "      box-shadow: 0px 1px 2px rgba(60, 64, 67, 0.3), 0px 1px 3px 1px rgba(60, 64, 67, 0.15);\n",
              "      fill: #174EA6;\n",
              "    }\n",
              "\n",
              "    [theme=dark] .colab-df-convert {\n",
              "      background-color: #3B4455;\n",
              "      fill: #D2E3FC;\n",
              "    }\n",
              "\n",
              "    [theme=dark] .colab-df-convert:hover {\n",
              "      background-color: #434B5C;\n",
              "      box-shadow: 0px 1px 3px 1px rgba(0, 0, 0, 0.15);\n",
              "      filter: drop-shadow(0px 1px 2px rgba(0, 0, 0, 0.3));\n",
              "      fill: #FFFFFF;\n",
              "    }\n",
              "  </style>\n",
              "\n",
              "      <script>\n",
              "        const buttonEl =\n",
              "          document.querySelector('#df-d7ec4bee-a418-4b70-81f3-213cf1bcf91d button.colab-df-convert');\n",
              "        buttonEl.style.display =\n",
              "          google.colab.kernel.accessAllowed ? 'block' : 'none';\n",
              "\n",
              "        async function convertToInteractive(key) {\n",
              "          const element = document.querySelector('#df-d7ec4bee-a418-4b70-81f3-213cf1bcf91d');\n",
              "          const dataTable =\n",
              "            await google.colab.kernel.invokeFunction('convertToInteractive',\n",
              "                                                     [key], {});\n",
              "          if (!dataTable) return;\n",
              "\n",
              "          const docLinkHtml = 'Like what you see? Visit the ' +\n",
              "            '<a target=\"_blank\" href=https://colab.research.google.com/notebooks/data_table.ipynb>data table notebook</a>'\n",
              "            + ' to learn more about interactive tables.';\n",
              "          element.innerHTML = '';\n",
              "          dataTable['output_type'] = 'display_data';\n",
              "          await google.colab.output.renderOutput(dataTable, element);\n",
              "          const docLink = document.createElement('div');\n",
              "          docLink.innerHTML = docLinkHtml;\n",
              "          element.appendChild(docLink);\n",
              "        }\n",
              "      </script>\n",
              "    </div>\n",
              "  </div>\n",
              "  "
            ]
          },
          "metadata": {},
          "execution_count": 15
        }
      ],
      "source": [
        "test"
      ]
    },
    {
      "cell_type": "code",
      "execution_count": 16,
      "id": "705f92b3",
      "metadata": {
        "colab": {
          "base_uri": "https://localhost:8080/"
        },
        "id": "705f92b3",
        "outputId": "637caf22-06ac-4613-b036-1a9e69e4e20f"
      },
      "outputs": [
        {
          "output_type": "execute_result",
          "data": {
            "text/plain": [
              "(400, 3)"
            ]
          },
          "metadata": {},
          "execution_count": 16
        }
      ],
      "source": [
        "df.shape"
      ]
    },
    {
      "cell_type": "markdown",
      "id": "8b6ee9a8",
      "metadata": {
        "id": "8b6ee9a8"
      },
      "source": [
        "# Linear Kernel"
      ]
    },
    {
      "cell_type": "code",
      "execution_count": 17,
      "id": "a01779f4",
      "metadata": {
        "id": "a01779f4"
      },
      "outputs": [],
      "source": [
        "from sklearn.svm import SVC\n",
        "svm = SVC(kernel='linear')"
      ]
    },
    {
      "cell_type": "code",
      "execution_count": 18,
      "id": "b63f8154",
      "metadata": {
        "colab": {
          "base_uri": "https://localhost:8080/"
        },
        "id": "b63f8154",
        "outputId": "0e8837e1-931a-4e0d-d67f-631d9f44cec6"
      },
      "outputs": [
        {
          "output_type": "execute_result",
          "data": {
            "text/plain": [
              "SVC(kernel='linear')"
            ]
          },
          "metadata": {},
          "execution_count": 18
        }
      ],
      "source": [
        "svm.fit(train.drop('label_y', axis=1) , train.label_y)"
      ]
    },
    {
      "cell_type": "code",
      "execution_count": 19,
      "id": "db660966",
      "metadata": {
        "colab": {
          "base_uri": "https://localhost:8080/"
        },
        "id": "db660966",
        "outputId": "e90afbe2-1d12-4aa4-cc43-5037e006b4b3"
      },
      "outputs": [
        {
          "output_type": "execute_result",
          "data": {
            "text/plain": [
              "0.55"
            ]
          },
          "metadata": {},
          "execution_count": 19
        }
      ],
      "source": [
        "svm.score(test.drop('label_y', axis=1) , test.label_y)"
      ]
    },
    {
      "cell_type": "markdown",
      "id": "4e91dccb",
      "metadata": {
        "id": "4e91dccb"
      },
      "source": [
        "# Polynomial"
      ]
    },
    {
      "cell_type": "code",
      "execution_count": 20,
      "id": "78ed80d8",
      "metadata": {
        "colab": {
          "base_uri": "https://localhost:8080/",
          "height": 206
        },
        "id": "78ed80d8",
        "outputId": "5dbe36cc-0f41-4923-fb35-6c184a30a832"
      },
      "outputs": [
        {
          "output_type": "execute_result",
          "data": {
            "text/plain": [
              "   feature1  feature2  label_y\n",
              "0  8.660254  -5.00000        0\n",
              "1  8.717792  -4.89899        0\n",
              "2  8.773790  -4.79798        0\n",
              "3  8.828277  -4.69697        0\n",
              "4  8.881281  -4.59596        0"
            ],
            "text/html": [
              "\n",
              "  <div id=\"df-804f5d1e-620a-4106-bdcf-43d7d6271d02\">\n",
              "    <div class=\"colab-df-container\">\n",
              "      <div>\n",
              "<style scoped>\n",
              "    .dataframe tbody tr th:only-of-type {\n",
              "        vertical-align: middle;\n",
              "    }\n",
              "\n",
              "    .dataframe tbody tr th {\n",
              "        vertical-align: top;\n",
              "    }\n",
              "\n",
              "    .dataframe thead th {\n",
              "        text-align: right;\n",
              "    }\n",
              "</style>\n",
              "<table border=\"1\" class=\"dataframe\">\n",
              "  <thead>\n",
              "    <tr style=\"text-align: right;\">\n",
              "      <th></th>\n",
              "      <th>feature1</th>\n",
              "      <th>feature2</th>\n",
              "      <th>label_y</th>\n",
              "    </tr>\n",
              "  </thead>\n",
              "  <tbody>\n",
              "    <tr>\n",
              "      <th>0</th>\n",
              "      <td>8.660254</td>\n",
              "      <td>-5.00000</td>\n",
              "      <td>0</td>\n",
              "    </tr>\n",
              "    <tr>\n",
              "      <th>1</th>\n",
              "      <td>8.717792</td>\n",
              "      <td>-4.89899</td>\n",
              "      <td>0</td>\n",
              "    </tr>\n",
              "    <tr>\n",
              "      <th>2</th>\n",
              "      <td>8.773790</td>\n",
              "      <td>-4.79798</td>\n",
              "      <td>0</td>\n",
              "    </tr>\n",
              "    <tr>\n",
              "      <th>3</th>\n",
              "      <td>8.828277</td>\n",
              "      <td>-4.69697</td>\n",
              "      <td>0</td>\n",
              "    </tr>\n",
              "    <tr>\n",
              "      <th>4</th>\n",
              "      <td>8.881281</td>\n",
              "      <td>-4.59596</td>\n",
              "      <td>0</td>\n",
              "    </tr>\n",
              "  </tbody>\n",
              "</table>\n",
              "</div>\n",
              "      <button class=\"colab-df-convert\" onclick=\"convertToInteractive('df-804f5d1e-620a-4106-bdcf-43d7d6271d02')\"\n",
              "              title=\"Convert this dataframe to an interactive table.\"\n",
              "              style=\"display:none;\">\n",
              "        \n",
              "  <svg xmlns=\"http://www.w3.org/2000/svg\" height=\"24px\"viewBox=\"0 0 24 24\"\n",
              "       width=\"24px\">\n",
              "    <path d=\"M0 0h24v24H0V0z\" fill=\"none\"/>\n",
              "    <path d=\"M18.56 5.44l.94 2.06.94-2.06 2.06-.94-2.06-.94-.94-2.06-.94 2.06-2.06.94zm-11 1L8.5 8.5l.94-2.06 2.06-.94-2.06-.94L8.5 2.5l-.94 2.06-2.06.94zm10 10l.94 2.06.94-2.06 2.06-.94-2.06-.94-.94-2.06-.94 2.06-2.06.94z\"/><path d=\"M17.41 7.96l-1.37-1.37c-.4-.4-.92-.59-1.43-.59-.52 0-1.04.2-1.43.59L10.3 9.45l-7.72 7.72c-.78.78-.78 2.05 0 2.83L4 21.41c.39.39.9.59 1.41.59.51 0 1.02-.2 1.41-.59l7.78-7.78 2.81-2.81c.8-.78.8-2.07 0-2.86zM5.41 20L4 18.59l7.72-7.72 1.47 1.35L5.41 20z\"/>\n",
              "  </svg>\n",
              "      </button>\n",
              "      \n",
              "  <style>\n",
              "    .colab-df-container {\n",
              "      display:flex;\n",
              "      flex-wrap:wrap;\n",
              "      gap: 12px;\n",
              "    }\n",
              "\n",
              "    .colab-df-convert {\n",
              "      background-color: #E8F0FE;\n",
              "      border: none;\n",
              "      border-radius: 50%;\n",
              "      cursor: pointer;\n",
              "      display: none;\n",
              "      fill: #1967D2;\n",
              "      height: 32px;\n",
              "      padding: 0 0 0 0;\n",
              "      width: 32px;\n",
              "    }\n",
              "\n",
              "    .colab-df-convert:hover {\n",
              "      background-color: #E2EBFA;\n",
              "      box-shadow: 0px 1px 2px rgba(60, 64, 67, 0.3), 0px 1px 3px 1px rgba(60, 64, 67, 0.15);\n",
              "      fill: #174EA6;\n",
              "    }\n",
              "\n",
              "    [theme=dark] .colab-df-convert {\n",
              "      background-color: #3B4455;\n",
              "      fill: #D2E3FC;\n",
              "    }\n",
              "\n",
              "    [theme=dark] .colab-df-convert:hover {\n",
              "      background-color: #434B5C;\n",
              "      box-shadow: 0px 1px 3px 1px rgba(0, 0, 0, 0.15);\n",
              "      filter: drop-shadow(0px 1px 2px rgba(0, 0, 0, 0.3));\n",
              "      fill: #FFFFFF;\n",
              "    }\n",
              "  </style>\n",
              "\n",
              "      <script>\n",
              "        const buttonEl =\n",
              "          document.querySelector('#df-804f5d1e-620a-4106-bdcf-43d7d6271d02 button.colab-df-convert');\n",
              "        buttonEl.style.display =\n",
              "          google.colab.kernel.accessAllowed ? 'block' : 'none';\n",
              "\n",
              "        async function convertToInteractive(key) {\n",
              "          const element = document.querySelector('#df-804f5d1e-620a-4106-bdcf-43d7d6271d02');\n",
              "          const dataTable =\n",
              "            await google.colab.kernel.invokeFunction('convertToInteractive',\n",
              "                                                     [key], {});\n",
              "          if (!dataTable) return;\n",
              "\n",
              "          const docLinkHtml = 'Like what you see? Visit the ' +\n",
              "            '<a target=\"_blank\" href=https://colab.research.google.com/notebooks/data_table.ipynb>data table notebook</a>'\n",
              "            + ' to learn more about interactive tables.';\n",
              "          element.innerHTML = '';\n",
              "          dataTable['output_type'] = 'display_data';\n",
              "          await google.colab.output.renderOutput(dataTable, element);\n",
              "          const docLink = document.createElement('div');\n",
              "          docLink.innerHTML = docLinkHtml;\n",
              "          element.appendChild(docLink);\n",
              "        }\n",
              "      </script>\n",
              "    </div>\n",
              "  </div>\n",
              "  "
            ]
          },
          "metadata": {},
          "execution_count": 20
        }
      ],
      "source": [
        "df.head()"
      ]
    },
    {
      "cell_type": "code",
      "execution_count": 22,
      "id": "29b29b76",
      "metadata": {
        "id": "29b29b76"
      },
      "outputs": [],
      "source": [
        "df['fe1_square'] = df['feature1'] ** 2\n",
        "df['fe2_square'] = df['feature2'] ** 2\n",
        "\n",
        "df['Fe1_Fe2'] = df['feature1'] * df['feature2']"
      ]
    },
    {
      "cell_type": "code",
      "source": [
        "df"
      ],
      "metadata": {
        "colab": {
          "base_uri": "https://localhost:8080/",
          "height": 424
        },
        "id": "LsGcVGrAo8-M",
        "outputId": "cf448cf9-297a-4113-820a-7aa370364156"
      },
      "id": "LsGcVGrAo8-M",
      "execution_count": 23,
      "outputs": [
        {
          "output_type": "execute_result",
          "data": {
            "text/plain": [
              "     feature1  feature2  label_y  fe1_square  fe2_square    Fe1_Fe2\n",
              "0    8.660254  -5.00000        0   75.000000   25.000000 -43.301270\n",
              "1    8.717792  -4.89899        0   75.999898   24.000102 -42.708375\n",
              "2    8.773790  -4.79798        0   76.979390   23.020610 -42.096467\n",
              "3    8.828277  -4.69697        0   77.938476   22.061524 -41.466150\n",
              "4    8.881281  -4.59596        0   78.877155   21.122845 -40.818009\n",
              "..        ...       ...      ...         ...         ...        ...\n",
              "395 -1.969049  -4.59596        1    3.877155   21.122845   9.049671\n",
              "396 -1.714198  -4.69697        1    2.938476   22.061524   8.051537\n",
              "397 -1.406908  -4.79798        1    1.979390   23.020610   6.750316\n",
              "398 -0.999949  -4.89899        1    0.999898   24.000102   4.898740\n",
              "399 -0.000000  -5.00000        1    0.000000   25.000000   0.000000\n",
              "\n",
              "[400 rows x 6 columns]"
            ],
            "text/html": [
              "\n",
              "  <div id=\"df-d2fbb6da-9717-4871-b1cf-da575697ceae\">\n",
              "    <div class=\"colab-df-container\">\n",
              "      <div>\n",
              "<style scoped>\n",
              "    .dataframe tbody tr th:only-of-type {\n",
              "        vertical-align: middle;\n",
              "    }\n",
              "\n",
              "    .dataframe tbody tr th {\n",
              "        vertical-align: top;\n",
              "    }\n",
              "\n",
              "    .dataframe thead th {\n",
              "        text-align: right;\n",
              "    }\n",
              "</style>\n",
              "<table border=\"1\" class=\"dataframe\">\n",
              "  <thead>\n",
              "    <tr style=\"text-align: right;\">\n",
              "      <th></th>\n",
              "      <th>feature1</th>\n",
              "      <th>feature2</th>\n",
              "      <th>label_y</th>\n",
              "      <th>fe1_square</th>\n",
              "      <th>fe2_square</th>\n",
              "      <th>Fe1_Fe2</th>\n",
              "    </tr>\n",
              "  </thead>\n",
              "  <tbody>\n",
              "    <tr>\n",
              "      <th>0</th>\n",
              "      <td>8.660254</td>\n",
              "      <td>-5.00000</td>\n",
              "      <td>0</td>\n",
              "      <td>75.000000</td>\n",
              "      <td>25.000000</td>\n",
              "      <td>-43.301270</td>\n",
              "    </tr>\n",
              "    <tr>\n",
              "      <th>1</th>\n",
              "      <td>8.717792</td>\n",
              "      <td>-4.89899</td>\n",
              "      <td>0</td>\n",
              "      <td>75.999898</td>\n",
              "      <td>24.000102</td>\n",
              "      <td>-42.708375</td>\n",
              "    </tr>\n",
              "    <tr>\n",
              "      <th>2</th>\n",
              "      <td>8.773790</td>\n",
              "      <td>-4.79798</td>\n",
              "      <td>0</td>\n",
              "      <td>76.979390</td>\n",
              "      <td>23.020610</td>\n",
              "      <td>-42.096467</td>\n",
              "    </tr>\n",
              "    <tr>\n",
              "      <th>3</th>\n",
              "      <td>8.828277</td>\n",
              "      <td>-4.69697</td>\n",
              "      <td>0</td>\n",
              "      <td>77.938476</td>\n",
              "      <td>22.061524</td>\n",
              "      <td>-41.466150</td>\n",
              "    </tr>\n",
              "    <tr>\n",
              "      <th>4</th>\n",
              "      <td>8.881281</td>\n",
              "      <td>-4.59596</td>\n",
              "      <td>0</td>\n",
              "      <td>78.877155</td>\n",
              "      <td>21.122845</td>\n",
              "      <td>-40.818009</td>\n",
              "    </tr>\n",
              "    <tr>\n",
              "      <th>...</th>\n",
              "      <td>...</td>\n",
              "      <td>...</td>\n",
              "      <td>...</td>\n",
              "      <td>...</td>\n",
              "      <td>...</td>\n",
              "      <td>...</td>\n",
              "    </tr>\n",
              "    <tr>\n",
              "      <th>395</th>\n",
              "      <td>-1.969049</td>\n",
              "      <td>-4.59596</td>\n",
              "      <td>1</td>\n",
              "      <td>3.877155</td>\n",
              "      <td>21.122845</td>\n",
              "      <td>9.049671</td>\n",
              "    </tr>\n",
              "    <tr>\n",
              "      <th>396</th>\n",
              "      <td>-1.714198</td>\n",
              "      <td>-4.69697</td>\n",
              "      <td>1</td>\n",
              "      <td>2.938476</td>\n",
              "      <td>22.061524</td>\n",
              "      <td>8.051537</td>\n",
              "    </tr>\n",
              "    <tr>\n",
              "      <th>397</th>\n",
              "      <td>-1.406908</td>\n",
              "      <td>-4.79798</td>\n",
              "      <td>1</td>\n",
              "      <td>1.979390</td>\n",
              "      <td>23.020610</td>\n",
              "      <td>6.750316</td>\n",
              "    </tr>\n",
              "    <tr>\n",
              "      <th>398</th>\n",
              "      <td>-0.999949</td>\n",
              "      <td>-4.89899</td>\n",
              "      <td>1</td>\n",
              "      <td>0.999898</td>\n",
              "      <td>24.000102</td>\n",
              "      <td>4.898740</td>\n",
              "    </tr>\n",
              "    <tr>\n",
              "      <th>399</th>\n",
              "      <td>-0.000000</td>\n",
              "      <td>-5.00000</td>\n",
              "      <td>1</td>\n",
              "      <td>0.000000</td>\n",
              "      <td>25.000000</td>\n",
              "      <td>0.000000</td>\n",
              "    </tr>\n",
              "  </tbody>\n",
              "</table>\n",
              "<p>400 rows × 6 columns</p>\n",
              "</div>\n",
              "      <button class=\"colab-df-convert\" onclick=\"convertToInteractive('df-d2fbb6da-9717-4871-b1cf-da575697ceae')\"\n",
              "              title=\"Convert this dataframe to an interactive table.\"\n",
              "              style=\"display:none;\">\n",
              "        \n",
              "  <svg xmlns=\"http://www.w3.org/2000/svg\" height=\"24px\"viewBox=\"0 0 24 24\"\n",
              "       width=\"24px\">\n",
              "    <path d=\"M0 0h24v24H0V0z\" fill=\"none\"/>\n",
              "    <path d=\"M18.56 5.44l.94 2.06.94-2.06 2.06-.94-2.06-.94-.94-2.06-.94 2.06-2.06.94zm-11 1L8.5 8.5l.94-2.06 2.06-.94-2.06-.94L8.5 2.5l-.94 2.06-2.06.94zm10 10l.94 2.06.94-2.06 2.06-.94-2.06-.94-.94-2.06-.94 2.06-2.06.94z\"/><path d=\"M17.41 7.96l-1.37-1.37c-.4-.4-.92-.59-1.43-.59-.52 0-1.04.2-1.43.59L10.3 9.45l-7.72 7.72c-.78.78-.78 2.05 0 2.83L4 21.41c.39.39.9.59 1.41.59.51 0 1.02-.2 1.41-.59l7.78-7.78 2.81-2.81c.8-.78.8-2.07 0-2.86zM5.41 20L4 18.59l7.72-7.72 1.47 1.35L5.41 20z\"/>\n",
              "  </svg>\n",
              "      </button>\n",
              "      \n",
              "  <style>\n",
              "    .colab-df-container {\n",
              "      display:flex;\n",
              "      flex-wrap:wrap;\n",
              "      gap: 12px;\n",
              "    }\n",
              "\n",
              "    .colab-df-convert {\n",
              "      background-color: #E8F0FE;\n",
              "      border: none;\n",
              "      border-radius: 50%;\n",
              "      cursor: pointer;\n",
              "      display: none;\n",
              "      fill: #1967D2;\n",
              "      height: 32px;\n",
              "      padding: 0 0 0 0;\n",
              "      width: 32px;\n",
              "    }\n",
              "\n",
              "    .colab-df-convert:hover {\n",
              "      background-color: #E2EBFA;\n",
              "      box-shadow: 0px 1px 2px rgba(60, 64, 67, 0.3), 0px 1px 3px 1px rgba(60, 64, 67, 0.15);\n",
              "      fill: #174EA6;\n",
              "    }\n",
              "\n",
              "    [theme=dark] .colab-df-convert {\n",
              "      background-color: #3B4455;\n",
              "      fill: #D2E3FC;\n",
              "    }\n",
              "\n",
              "    [theme=dark] .colab-df-convert:hover {\n",
              "      background-color: #434B5C;\n",
              "      box-shadow: 0px 1px 3px 1px rgba(0, 0, 0, 0.15);\n",
              "      filter: drop-shadow(0px 1px 2px rgba(0, 0, 0, 0.3));\n",
              "      fill: #FFFFFF;\n",
              "    }\n",
              "  </style>\n",
              "\n",
              "      <script>\n",
              "        const buttonEl =\n",
              "          document.querySelector('#df-d2fbb6da-9717-4871-b1cf-da575697ceae button.colab-df-convert');\n",
              "        buttonEl.style.display =\n",
              "          google.colab.kernel.accessAllowed ? 'block' : 'none';\n",
              "\n",
              "        async function convertToInteractive(key) {\n",
              "          const element = document.querySelector('#df-d2fbb6da-9717-4871-b1cf-da575697ceae');\n",
              "          const dataTable =\n",
              "            await google.colab.kernel.invokeFunction('convertToInteractive',\n",
              "                                                     [key], {});\n",
              "          if (!dataTable) return;\n",
              "\n",
              "          const docLinkHtml = 'Like what you see? Visit the ' +\n",
              "            '<a target=\"_blank\" href=https://colab.research.google.com/notebooks/data_table.ipynb>data table notebook</a>'\n",
              "            + ' to learn more about interactive tables.';\n",
              "          element.innerHTML = '';\n",
              "          dataTable['output_type'] = 'display_data';\n",
              "          await google.colab.output.renderOutput(dataTable, element);\n",
              "          const docLink = document.createElement('div');\n",
              "          docLink.innerHTML = docLinkHtml;\n",
              "          element.appendChild(docLink);\n",
              "        }\n",
              "      </script>\n",
              "    </div>\n",
              "  </div>\n",
              "  "
            ]
          },
          "metadata": {},
          "execution_count": 23
        }
      ]
    },
    {
      "cell_type": "code",
      "execution_count": 24,
      "id": "ee8d6d87",
      "metadata": {
        "colab": {
          "base_uri": "https://localhost:8080/",
          "height": 500
        },
        "id": "ee8d6d87",
        "outputId": "3adcb653-a1b1-4f13-862e-7edfa2f43550"
      },
      "outputs": [
        {
          "output_type": "execute_result",
          "data": {
            "text/plain": [
              "<matplotlib.legend.Legend at 0x7f8c8c35bd90>"
            ]
          },
          "metadata": {},
          "execution_count": 24
        },
        {
          "output_type": "display_data",
          "data": {
            "text/plain": [
              "<Figure size 864x576 with 1 Axes>"
            ],
            "image/png": "[encoded data removed]"
          },
          "metadata": {
            "needs_background": "light"
          }
        }
      ],
      "source": [
        "df1 = df[df.label_y == 0]\n",
        "df2 = df[df.label_y == 1]\n",
        "\n",
        "plt.figure(figsize=(12,8))\n",
        "plt.scatter(df1.fe1_square , df1.fe2_square, color='green', label='class 0')\n",
        "plt.scatter(df2.fe1_square , df2.fe2_square, color='red', label='class 1')\n",
        "\n",
        "plt.legend()"
      ]
    },
    {
      "cell_type": "code",
      "execution_count": 25,
      "id": "fbb19be1",
      "metadata": {
        "colab": {
          "base_uri": "https://localhost:8080/"
        },
        "id": "fbb19be1",
        "outputId": "057ad233-ae5e-4271-c4a6-9538941f8056"
      },
      "outputs": [
        {
          "output_type": "stream",
          "name": "stdout",
          "text": [
            "Looking in indexes: https://pypi.org/simple, https://us-python.pkg.dev/colab-wheels/public/simple/\n",
            "Requirement already satisfied: plotly in /usr/local/lib/python3.7/dist-packages (5.5.0)\n",
            "Requirement already satisfied: six in /usr/local/lib/python3.7/dist-packages (from plotly) (1.15.0)\n",
            "Requirement already satisfied: tenacity>=6.2.0 in /usr/local/lib/python3.7/dist-packages (from plotly) (8.0.1)\n"
          ]
        }
      ],
      "source": [
        "!pip install plotly"
      ]
    },
    {
      "cell_type": "code",
      "execution_count": 26,
      "id": "6b90c8ef",
      "metadata": {
        "colab": {
          "base_uri": "https://localhost:8080/",
          "height": 542
        },
        "id": "6b90c8ef",
        "outputId": "c50db86b-01c2-4765-8d06-c562a478377f"
      },
      "outputs": [
        {
          "output_type": "display_data",
          "data": {
            "text/html": [
              "<html>\n",
              "<head><meta charset=\"utf-8\" /></head>\n",
              "<body>\n",
              "    <div>            <script src=\"https://cdnjs.cloudflare.com/ajax/libs/mathjax/2.7.5/MathJax.js?config=TeX-AMS-MML_SVG\"></script><script type=\"text/javascript\">if (window.MathJax) {MathJax.Hub.Config({SVG: {font: \"STIX-Web\"}});}</script>                <script type=\"text/javascript\">window.PlotlyConfig = {MathJaxConfig: 'local'};</script>\n",
              "        <script src=\"https://cdn.plot.ly/plotly-2.8.3.min.js\"></script>                <div id=\"289db8ba-f56c-4290-b4d2-c968f8955852\" class=\"plotly-graph-div\" style=\"height:525px; width:100%;\"></div>            <script type=\"text/javascript\">                                    window.PLOTLYENV=window.PLOTLYENV || {};                                    if (document.getElementById(\"289db8ba-f56c-4290-b4d2-c968f8955852\")) {                    Plotly.newPlot(                        \"289db8ba-f56c-4290-b4d2-c968f8955852\",                        [{\"hovertemplate\":\"fe1_square=%{x}<br>fe2_square=%{y}<br>Fe1_Fe2=%{z}<br>label_y=%{marker.color}<extra></extra>\",\"legendgroup\":\"\",\"marker\":{\"color\":[0,0,0,0,0,0,0,0,0,0,0,0,0,0,0,0,0,0,0,0,0,0,0,0,0,0,0,0,0,0,0,0,0,0,0,0,0,0,0,0,0,0,0,0,0,0,0,0,0,0,0,0,0,0,0,0,0,0,0,0,0,0,0,0,0,0,0,0,0,0,0,0,0,0,0,0,0,0,0,0,0,0,0,0,0,0,0,0,0,0,0,0,0,0,0,0,0,0,0,0,0,0,0,0,0,0,0,0,0,0,0,0,0,0,0,0,0,0,0,0,0,0,0,0,0,0,0,0,0,0,0,0,0,0,0,0,0,0,0,0,0,0,0,0,0,0,0,0,0,0,0,0,0,0,0,0,0,0,0,0,0,0,0,0,0,0,0,0,0,0,0,0,0,0,0,0,0,0,0,0,0,0,0,0,0,0,0,0,0,0,0,0,0,0,0,0,0,0,0,0,1,1,1,1,1,1,1,1,1,1,1,1,1,1,1,1,1,1,1,1,1,1,1,1,1,1,1,1,1,1,1,1,1,1,1,1,1,1,1,1,1,1,1,1,1,1,1,1,1,1,1,1,1,1,1,1,1,1,1,1,1,1,1,1,1,1,1,1,1,1,1,1,1,1,1,1,1,1,1,1,1,1,1,1,1,1,1,1,1,1,1,1,1,1,1,1,1,1,1,1,1,1,1,1,1,1,1,1,1,1,1,1,1,1,1,1,1,1,1,1,1,1,1,1,1,1,1,1,1,1,1,1,1,1,1,1,1,1,1,1,1,1,1,1,1,1,1,1,1,1,1,1,1,1,1,1,1,1,1,1,1,1,1,1,1,1,1,1,1,1,1,1,1,1,1,1,1,1,1,1,1,1,1,1,1,1,1,1,1,1,1,1,1,1,1,1,1,1,1,1],\"coloraxis\":\"coloraxis\",\"symbol\":\"circle\"},\"mode\":\"markers\",\"name\":\"\",\"scene\":\"scene\",\"showlegend\":false,\"x\":[75.00000000000001,75.99989796959494,76.97938985817774,77.93847566574841,78.87715539230689,79.79542903785328,80.69329660238752,81.57075808590962,82.42781348841959,83.26446280991735,84.08070605040302,84.87654320987653,85.65197428833793,86.40699928578714,87.14161820222425,87.85583103764922,88.54963779206203,89.2230384654627,89.8760330578512,90.50862156922767,91.12080399959189,91.71258034894394,92.28395061728395,92.83491480461178,93.36547291092745,93.87562493623098,94.36537088052235,94.83471074380165,95.28364452606877,95.7121722273237,96.12029384756661,96.50800938679727,96.87531884501581,97.22222222222224,97.54871951841648,97.8548107335986,98.14049586776855,98.40577492092645,98.65064789307212,98.87511478420569,99.0791755943271,99.2628303234364,99.42607897153351,99.56892153861854,99.69135802469141,99.79338842975201,99.87501275380063,99.93623099683708,99.97704315886138,99.99744923987352,99.99744923987352,99.97704315886138,99.93623099683708,99.87501275380063,99.79338842975201,99.69135802469141,99.56892153861854,99.42607897153351,99.2628303234364,99.0791755943271,98.87511478420569,98.65064789307212,98.40577492092645,98.14049586776855,97.8548107335986,97.54871951841648,97.22222222222224,96.87531884501581,96.50800938679727,96.12029384756661,95.7121722273237,95.28364452606877,94.83471074380165,94.36537088052235,93.87562493623098,93.36547291092748,92.83491480461178,92.28395061728395,91.71258034894394,91.12080399959189,90.50862156922767,89.8760330578512,89.2230384654627,88.54963779206203,87.85583103764922,87.14161820222425,86.40699928578714,85.65197428833793,84.87654320987653,84.08070605040302,83.26446280991735,82.42781348841959,81.57075808590962,80.69329660238752,79.79542903785328,78.87715539230693,77.93847566574841,76.97938985817774,75.99989796959494,75.00000000000001,75.00000000000001,75.99989796959494,76.97938985817774,77.93847566574841,78.87715539230689,79.79542903785328,80.69329660238752,81.57075808590962,82.42781348841959,83.26446280991735,84.08070605040302,84.87654320987653,85.65197428833793,86.40699928578714,87.14161820222425,87.85583103764922,88.54963779206203,89.2230384654627,89.8760330578512,90.50862156922767,91.12080399959189,91.71258034894394,92.28395061728395,92.83491480461178,93.36547291092745,93.87562493623098,94.36537088052235,94.83471074380165,95.28364452606877,95.7121722273237,96.12029384756661,96.50800938679727,96.87531884501581,97.22222222222224,97.54871951841648,97.8548107335986,98.14049586776855,98.40577492092645,98.65064789307212,98.87511478420569,99.0791755943271,99.2628303234364,99.42607897153351,99.56892153861854,99.69135802469141,99.79338842975201,99.87501275380063,99.93623099683708,99.97704315886138,99.99744923987352,99.99744923987352,99.97704315886138,99.93623099683708,99.87501275380063,99.79338842975201,99.69135802469141,99.56892153861854,99.42607897153351,99.2628303234364,99.0791755943271,98.87511478420569,98.65064789307212,98.40577492092645,98.14049586776855,97.8548107335986,97.54871951841648,97.22222222222224,96.87531884501581,96.50800938679727,96.12029384756661,95.7121722273237,95.28364452606877,94.83471074380165,94.36537088052235,93.87562493623098,93.36547291092748,92.83491480461178,92.28395061728395,91.71258034894394,91.12080399959189,90.50862156922767,89.8760330578512,89.2230384654627,88.54963779206203,87.85583103764922,87.14161820222425,86.40699928578714,85.65197428833793,84.87654320987653,84.08070605040302,83.26446280991735,82.42781348841959,81.57075808590962,80.69329660238752,79.79542903785328,78.87715539230693,77.93847566574841,76.97938985817774,75.99989796959494,75.00000000000001,0.0,0.9998979695949404,1.97938985817774,2.9384756657483915,3.8771553923069066,4.795429037853282,5.693296602387515,6.570758085909598,7.427813488419548,8.264462809917353,9.080706050403023,9.876543209876544,10.651974288337922,11.406999285787165,12.141618202224265,12.855831037649217,13.549637792062041,14.22303846546271,14.876033057851238,15.50862156922763,16.120803999591878,16.712580348943987,17.28395061728395,17.83491480461178,18.365472910927455,18.875624936231006,19.365370880522395,19.83471074380165,20.283644526068773,20.71217222732374,21.12029384756658,21.508009386797262,21.87531884501582,22.222222222222225,22.548719518416483,22.854810733598615,23.1404958677686,23.40577492092644,23.650647893072133,23.875114784205692,24.07917559432711,24.262830323436383,24.42607897153352,24.568921538618508,24.69135802469136,24.79338842975207,24.875012753800632,24.936230996837065,24.977043158861346,24.99744923987348,24.99744923987348,24.977043158861346,24.936230996837065,24.875012753800632,24.79338842975207,24.69135802469136,24.568921538618508,24.42607897153352,24.262830323436383,24.07917559432711,23.875114784205692,23.650647893072133,23.40577492092644,23.1404958677686,22.854810733598615,22.548719518416483,22.222222222222225,21.87531884501582,21.508009386797262,21.12029384756658,20.71217222732374,20.283644526068773,19.83471074380165,19.365370880522395,18.875624936231006,18.365472910927455,17.83491480461178,17.28395061728395,16.712580348943987,16.120803999591885,15.508621569227627,14.876033057851238,14.223038465462716,13.549637792062041,12.855831037649223,12.141618202224258,11.406999285787165,10.65197428833793,9.876543209876539,9.080706050403023,8.264462809917362,7.427813488419548,6.570758085909605,5.6932966023875045,4.795429037853282,3.8771553923069155,2.9384756657483915,1.97938985817774,0.9998979695949333,0.0,0.0,0.9998979695949404,1.97938985817774,2.9384756657483915,3.8771553923069066,4.795429037853282,5.693296602387515,6.570758085909598,7.427813488419548,8.264462809917353,9.080706050403023,9.876543209876544,10.651974288337922,11.406999285787165,12.141618202224265,12.855831037649217,13.549637792062041,14.22303846546271,14.876033057851238,15.50862156922763,16.120803999591878,16.712580348943987,17.28395061728395,17.83491480461178,18.365472910927455,18.875624936231006,19.365370880522395,19.83471074380165,20.283644526068773,20.71217222732374,21.12029384756658,21.508009386797262,21.87531884501582,22.222222222222225,22.548719518416483,22.854810733598615,23.1404958677686,23.40577492092644,23.650647893072133,23.875114784205692,24.07917559432711,24.262830323436383,24.42607897153352,24.568921538618508,24.69135802469136,24.79338842975207,24.875012753800632,24.936230996837065,24.977043158861346,24.99744923987348,24.99744923987348,24.977043158861346,24.936230996837065,24.875012753800632,24.79338842975207,24.69135802469136,24.568921538618508,24.42607897153352,24.262830323436383,24.07917559432711,23.875114784205692,23.650647893072133,23.40577492092644,23.1404958677686,22.854810733598615,22.548719518416483,22.222222222222225,21.87531884501582,21.508009386797262,21.12029384756658,20.71217222732374,20.283644526068773,19.83471074380165,19.365370880522395,18.875624936231006,18.365472910927455,17.83491480461178,17.28395061728395,16.712580348943987,16.120803999591885,15.508621569227627,14.876033057851238,14.223038465462716,13.549637792062041,12.855831037649223,12.141618202224258,11.406999285787165,10.65197428833793,9.876543209876539,9.080706050403023,8.264462809917362,7.427813488419548,6.570758085909605,5.6932966023875045,4.795429037853282,3.8771553923069155,2.9384756657483915,1.97938985817774,0.9998979695949333,0.0],\"y\":[25.0,24.00010203040506,23.02061014182226,22.061524334251608,21.122844607693093,20.204570962146718,19.306703397612484,18.4292419140904,17.57218651158045,16.735537190082646,15.919293949596977,15.123456790123456,14.348025711662077,13.593000714212835,12.858381797775735,12.144168962350781,11.450362207937967,10.776961534537293,10.12396694214876,9.49137843077237,8.879196000408124,8.287419651056016,7.716049382716049,7.165085195388227,6.634527089072545,6.124375063769004,5.634629119477604,5.165289256198348,4.716355473931233,4.287827772676258,3.8797061524334233,3.491990613202735,3.124681154984185,2.7777777777777763,2.4512804815835114,2.1451892664013865,1.8595041322314052,1.5942250790735633,1.349352106927865,1.1248852157943066,0.9208244056728898,0.7371696765636166,0.5739210284664833,0.4310784613814917,0.30864197530864174,0.20661157024793428,0.1249872461993676,0.0637690031629426,0.022956841138659253,0.0025507601265176614,0.0025507601265176614,0.022956841138659253,0.0637690031629426,0.1249872461993676,0.20661157024793347,0.30864197530864174,0.4310784613814917,0.5739210284664833,0.7371696765636152,0.9208244056728898,1.1248852157943066,1.349352106927865,1.5942250790735626,1.8595041322314034,2.1451892664013865,2.4512804815835114,2.7777777777777786,3.124681154984184,3.491990613202734,3.8797061524334233,4.287827772676258,4.716355473931233,5.165289256198346,5.634629119477604,6.124375063769004,6.634527089072541,7.165085195388224,7.716049382716049,8.287419651056016,8.879196000408118,9.491378430772373,10.12396694214876,10.776961534537287,11.450362207937967,12.144168962350777,12.858381797775742,13.593000714212835,14.34802571166207,15.123456790123456,15.919293949596977,16.73553719008264,17.57218651158045,18.429241914090394,19.306703397612495,20.204570962146718,21.122844607693086,22.061524334251608,23.02061014182226,24.000102030405067,25.0,25.0,24.00010203040506,23.02061014182226,22.061524334251608,21.122844607693093,20.204570962146718,19.306703397612484,18.4292419140904,17.57218651158045,16.735537190082646,15.919293949596977,15.123456790123456,14.348025711662077,13.593000714212835,12.858381797775735,12.144168962350781,11.450362207937967,10.776961534537293,10.12396694214876,9.49137843077237,8.879196000408124,8.287419651056016,7.716049382716049,7.165085195388227,6.634527089072545,6.124375063769004,5.634629119477604,5.165289256198348,4.716355473931233,4.287827772676258,3.8797061524334233,3.491990613202735,3.124681154984185,2.7777777777777763,2.4512804815835114,2.1451892664013865,1.8595041322314052,1.5942250790735633,1.349352106927865,1.1248852157943066,0.9208244056728898,0.7371696765636166,0.5739210284664833,0.4310784613814917,0.30864197530864174,0.20661157024793428,0.1249872461993676,0.0637690031629426,0.022956841138659253,0.0025507601265176614,0.0025507601265176614,0.022956841138659253,0.0637690031629426,0.1249872461993676,0.20661157024793347,0.30864197530864174,0.4310784613814917,0.5739210284664833,0.7371696765636152,0.9208244056728898,1.1248852157943066,1.349352106927865,1.5942250790735626,1.8595041322314034,2.1451892664013865,2.4512804815835114,2.7777777777777786,3.124681154984184,3.491990613202734,3.8797061524334233,4.287827772676258,4.716355473931233,5.165289256198346,5.634629119477604,6.124375063769004,6.634527089072541,7.165085195388224,7.716049382716049,8.287419651056016,8.879196000408118,9.491378430772373,10.12396694214876,10.776961534537287,11.450362207937967,12.144168962350777,12.858381797775742,13.593000714212835,14.34802571166207,15.123456790123456,15.919293949596977,16.73553719008264,17.57218651158045,18.429241914090394,19.306703397612495,20.204570962146718,21.122844607693086,22.061524334251608,23.02061014182226,24.000102030405067,25.0,25.0,24.00010203040506,23.02061014182226,22.061524334251608,21.122844607693093,20.204570962146718,19.306703397612484,18.4292419140904,17.57218651158045,16.735537190082646,15.919293949596977,15.123456790123456,14.348025711662077,13.593000714212835,12.858381797775735,12.144168962350781,11.450362207937967,10.776961534537293,10.12396694214876,9.49137843077237,8.879196000408124,8.287419651056016,7.716049382716049,7.165085195388227,6.634527089072545,6.124375063769004,5.634629119477604,5.165289256198348,4.716355473931233,4.287827772676258,3.8797061524334233,3.491990613202735,3.124681154984185,2.7777777777777763,2.4512804815835114,2.1451892664013865,1.8595041322314052,1.5942250790735633,1.349352106927865,1.1248852157943066,0.9208244056728898,0.7371696765636166,0.5739210284664833,0.4310784613814917,0.30864197530864174,0.20661157024793428,0.1249872461993676,0.0637690031629426,0.022956841138659253,0.0025507601265176614,0.0025507601265176614,0.022956841138659253,0.0637690031629426,0.1249872461993676,0.20661157024793347,0.30864197530864174,0.4310784613814917,0.5739210284664833,0.7371696765636152,0.9208244056728898,1.1248852157943066,1.349352106927865,1.5942250790735626,1.8595041322314034,2.1451892664013865,2.4512804815835114,2.7777777777777786,3.124681154984184,3.491990613202734,3.8797061524334233,4.287827772676258,4.716355473931233,5.165289256198346,5.634629119477604,6.124375063769004,6.634527089072541,7.165085195388224,7.716049382716049,8.287419651056016,8.879196000408118,9.491378430772373,10.12396694214876,10.776961534537287,11.450362207937967,12.144168962350777,12.858381797775742,13.593000714212835,14.34802571166207,15.123456790123456,15.919293949596977,16.73553719008264,17.57218651158045,18.429241914090394,19.306703397612495,20.204570962146718,21.122844607693086,22.061524334251608,23.02061014182226,24.000102030405067,25.0,25.0,24.00010203040506,23.02061014182226,22.061524334251608,21.122844607693093,20.204570962146718,19.306703397612484,18.4292419140904,17.57218651158045,16.735537190082646,15.919293949596977,15.123456790123456,14.348025711662077,13.593000714212835,12.858381797775735,12.144168962350781,11.450362207937967,10.776961534537293,10.12396694214876,9.49137843077237,8.879196000408124,8.287419651056016,7.716049382716049,7.165085195388227,6.634527089072545,6.124375063769004,5.634629119477604,5.165289256198348,4.716355473931233,4.287827772676258,3.8797061524334233,3.491990613202735,3.124681154984185,2.7777777777777763,2.4512804815835114,2.1451892664013865,1.8595041322314052,1.5942250790735633,1.349352106927865,1.1248852157943066,0.9208244056728898,0.7371696765636166,0.5739210284664833,0.4310784613814917,0.30864197530864174,0.20661157024793428,0.1249872461993676,0.0637690031629426,0.022956841138659253,0.0025507601265176614,0.0025507601265176614,0.022956841138659253,0.0637690031629426,0.1249872461993676,0.20661157024793347,0.30864197530864174,0.4310784613814917,0.5739210284664833,0.7371696765636152,0.9208244056728898,1.1248852157943066,1.349352106927865,1.5942250790735626,1.8595041322314034,2.1451892664013865,2.4512804815835114,2.7777777777777786,3.124681154984184,3.491990613202734,3.8797061524334233,4.287827772676258,4.716355473931233,5.165289256198346,5.634629119477604,6.124375063769004,6.634527089072541,7.165085195388224,7.716049382716049,8.287419651056016,8.879196000408118,9.491378430772373,10.12396694214876,10.776961534537287,11.450362207937967,12.144168962350777,12.858381797775742,13.593000714212835,14.34802571166207,15.123456790123456,15.919293949596977,16.73553719008264,17.57218651158045,18.429241914090394,19.306703397612495,20.204570962146718,21.122844607693086,22.061524334251608,23.02061014182226,24.000102030405067,25.0],\"z\":[-43.30127018922194,-42.708375122107526,-42.09646686932831,-41.466149778757924,-40.81800946210581,-40.15261396783838,-39.47051486461593,-38.77224824382736,-38.05833564884671,-37.329284937802186,-36.585591085918274,-35.827736932851536,-35.056193879879366,-34.27142254130535,-33.47387335400854,-32.66398714867727,-31.84219568592629,-31.00892216019178,-30.16458167402881,-29.3095816851948,-28.444322428687748,-27.569197315716174,-26.68459331140522,-25.79089129288965,-24.888466389306053,-23.97768830507196,-23.058921627727848,-22.1325261215171,-21.198857007787996,-20.25826523322004,-19.311097726802398,-18.35769764642553,-17.39840461588663,-16.433554953054486,-15.46348188989009,-14.488515784974489,-13.508984329154979,-12.525212744884184,-11.537523979793749,-10.546238895014566,-9.551676448729099,-8.554153875417297,-7.55398686123641,-6.551489715956375,-5.546975541855378,-4.5407563999661,-3.533143474050305,-2.524447232668939,-1.5149775897058215,-0.5050440636959742,0.5050440636959742,1.5149775897058215,2.524447232668939,3.533143474050305,4.540756399966091,5.546975541855378,6.551489715956375,7.55398686123641,8.554153875417288,9.551676448729099,10.546238895014566,11.537523979793749,12.525212744884183,13.508984329154972,14.488515784974489,15.46348188989009,16.433554953054493,17.398404615886626,18.357697646425528,19.311097726802398,20.25826523322004,21.198857007787996,22.132526121517095,23.058921627727848,23.97768830507196,24.88846638930605,25.790891292889647,26.68459331140522,27.569197315716174,28.444322428687737,29.309581685194804,30.16458167402881,31.00892216019177,31.84219568592629,32.66398714867727,33.47387335400855,34.27142254130535,35.05619387987936,35.827736932851536,36.585591085918274,37.32928493780218,38.05833564884671,38.772248243827356,39.470514864615936,40.15261396783838,40.81800946210581,41.466149778757924,42.09646686932831,42.70837512210753,43.30127018922194,-43.30127018922194,-42.708375122107526,-42.09646686932831,-41.466149778757924,-40.81800946210581,-40.15261396783838,-39.47051486461593,-38.77224824382736,-38.05833564884671,-37.329284937802186,-36.585591085918274,-35.827736932851536,-35.056193879879366,-34.27142254130535,-33.47387335400854,-32.66398714867727,-31.84219568592629,-31.00892216019178,-30.16458167402881,-29.3095816851948,-28.444322428687748,-27.569197315716174,-26.68459331140522,-25.79089129288965,-24.888466389306053,-23.97768830507196,-23.058921627727848,-22.1325261215171,-21.198857007787996,-20.25826523322004,-19.311097726802398,-18.35769764642553,-17.39840461588663,-16.433554953054486,-15.46348188989009,-14.488515784974489,-13.508984329154979,-12.525212744884184,-11.537523979793749,-10.546238895014566,-9.551676448729099,-8.554153875417297,-7.55398686123641,-6.551489715956375,-5.546975541855378,-4.5407563999661,-3.533143474050305,-2.524447232668939,-1.5149775897058215,-0.5050440636959742,0.5050440636959742,1.5149775897058215,2.524447232668939,3.533143474050305,4.540756399966091,5.546975541855378,6.551489715956375,7.55398686123641,8.554153875417288,9.551676448729099,10.546238895014566,11.537523979793749,12.525212744884183,13.508984329154972,14.488515784974489,15.46348188989009,16.433554953054493,17.398404615886626,18.357697646425528,19.311097726802398,20.25826523322004,21.198857007787996,22.132526121517095,23.058921627727848,23.97768830507196,24.88846638930605,25.790891292889647,26.68459331140522,27.569197315716174,28.444322428687737,29.309581685194804,30.16458167402881,31.00892216019177,31.84219568592629,32.66398714867727,33.47387335400855,34.27142254130535,35.05619387987936,35.827736932851536,36.585591085918274,37.32928493780218,38.05833564884671,38.772248243827356,39.470514864615936,40.15261396783838,40.81800946210581,41.466149778757924,42.09646686932831,42.70837512210753,43.30127018922194,-0.0,-4.89873996965275,-6.750315714378595,-8.05153726970908,-9.049671312902925,-9.843250798859367,-10.484216177518025,-11.004276001818274,-11.424662970597483,-11.760536752692317,-12.023245355820096,-12.221598687174895,-12.362637298288575,-12.45212228653133,-12.494861443290318,-12.494934344471181,-12.455852460007515,-12.380676009270896,-12.27210116108884,-12.132526375540186,-11.964103743972613,-11.768779325133554,-11.548325267820806,-11.304365706554888,-11.038397869762452,-10.75180946038896,-10.445893100777699,-10.121858441252803,-9.780842391726786,-9.42391783223796,-9.052101081053273,-8.666358340581837,-8.267611296758655,-7.85674201318386,-7.434597234564592,-7.0019921930369895,-6.559713994375019,-6.108524647907379,-5.649163793405706,-5.18235116970522,-4.708788862939112,-4.229163366677327,-3.7441474817034197,-3.2544020794410544,-2.7605777499997393,-2.263316353327135,-1.763252489937754,-1.261014906061451,-0.7572278467617365,-0.2525123695697272,0.2525123695697272,0.7572278467617365,1.261014906061451,1.763252489937754,2.2633163533271308,2.7605777499997393,3.2544020794410544,3.7441474817034197,4.229163366677324,4.708788862939112,5.18235116970522,5.649163793405706,6.1085246479073785,6.5597139943750165,7.0019921930369895,7.434597234564592,7.8567420131838634,8.267611296758654,8.666358340581834,9.052101081053273,9.42391783223796,9.780842391726786,10.121858441252801,10.445893100777699,10.75180946038896,11.038397869762449,11.304365706554885,11.548325267820806,11.768779325133554,11.964103743972611,12.132526375540186,12.27210116108884,12.380676009270896,12.455852460007515,12.494934344471183,12.494861443290318,12.45212228653133,12.362637298288577,12.221598687174893,12.023245355820096,11.760536752692321,11.424662970597483,11.004276001818278,10.484216177518016,9.843250798859367,9.049671312902934,8.05153726970908,6.750315714378595,4.898739969652733,0.0,-0.0,-4.89873996965275,-6.750315714378595,-8.05153726970908,-9.049671312902925,-9.843250798859367,-10.484216177518025,-11.004276001818274,-11.424662970597483,-11.760536752692317,-12.023245355820096,-12.221598687174895,-12.362637298288575,-12.45212228653133,-12.494861443290318,-12.494934344471181,-12.455852460007515,-12.380676009270896,-12.27210116108884,-12.132526375540186,-11.964103743972613,-11.768779325133554,-11.548325267820806,-11.304365706554888,-11.038397869762452,-10.75180946038896,-10.445893100777699,-10.121858441252803,-9.780842391726786,-9.42391783223796,-9.052101081053273,-8.666358340581837,-8.267611296758655,-7.85674201318386,-7.434597234564592,-7.0019921930369895,-6.559713994375019,-6.108524647907379,-5.649163793405706,-5.18235116970522,-4.708788862939112,-4.229163366677327,-3.7441474817034197,-3.2544020794410544,-2.7605777499997393,-2.263316353327135,-1.763252489937754,-1.261014906061451,-0.7572278467617365,-0.2525123695697272,0.2525123695697272,0.7572278467617365,1.261014906061451,1.763252489937754,2.2633163533271308,2.7605777499997393,3.2544020794410544,3.7441474817034197,4.229163366677324,4.708788862939112,5.18235116970522,5.649163793405706,6.1085246479073785,6.5597139943750165,7.0019921930369895,7.434597234564592,7.8567420131838634,8.267611296758654,8.666358340581834,9.052101081053273,9.42391783223796,9.780842391726786,10.121858441252801,10.445893100777699,10.75180946038896,11.038397869762449,11.304365706554885,11.548325267820806,11.768779325133554,11.964103743972611,12.132526375540186,12.27210116108884,12.380676009270896,12.455852460007515,12.494934344471183,12.494861443290318,12.45212228653133,12.362637298288577,12.221598687174893,12.023245355820096,11.760536752692321,11.424662970597483,11.004276001818278,10.484216177518016,9.843250798859367,9.049671312902934,8.05153726970908,6.750315714378595,4.898739969652733,0.0],\"type\":\"scatter3d\"}],                        {\"template\":{\"data\":{\"bar\":[{\"error_x\":{\"color\":\"#2a3f5f\"},\"error_y\":{\"color\":\"#2a3f5f\"},\"marker\":{\"line\":{\"color\":\"#E5ECF6\",\"width\":0.5},\"pattern\":{\"fillmode\":\"overlay\",\"size\":10,\"solidity\":0.2}},\"type\":\"bar\"}],\"barpolar\":[{\"marker\":{\"line\":{\"color\":\"#E5ECF6\",\"width\":0.5},\"pattern\":{\"fillmode\":\"overlay\",\"size\":10,\"solidity\":0.2}},\"type\":\"barpolar\"}],\"carpet\":[{\"aaxis\":{\"endlinecolor\":\"#2a3f5f\",\"gridcolor\":\"white\",\"linecolor\":\"white\",\"minorgridcolor\":\"white\",\"startlinecolor\":\"#2a3f5f\"},\"baxis\":{\"endlinecolor\":\"#2a3f5f\",\"gridcolor\":\"white\",\"linecolor\":\"white\",\"minorgridcolor\":\"white\",\"startlinecolor\":\"#2a3f5f\"},\"type\":\"carpet\"}],\"choropleth\":[{\"colorbar\":{\"outlinewidth\":0,\"ticks\":\"\"},\"type\":\"choropleth\"}],\"contour\":[{\"colorbar\":{\"outlinewidth\":0,\"ticks\":\"\"},\"colorscale\":[[0.0,\"#0d0887\"],[0.1111111111111111,\"#46039f\"],[0.2222222222222222,\"#7201a8\"],[0.3333333333333333,\"#9c179e\"],[0.4444444444444444,\"#bd3786\"],[0.5555555555555556,\"#d8576b\"],[0.6666666666666666,\"#ed7953\"],[0.7777777777777778,\"#fb9f3a\"],[0.8888888888888888,\"#fdca26\"],[1.0,\"#f0f921\"]],\"type\":\"contour\"}],\"contourcarpet\":[{\"colorbar\":{\"outlinewidth\":0,\"ticks\":\"\"},\"type\":\"contourcarpet\"}],\"heatmap\":[{\"colorbar\":{\"outlinewidth\":0,\"ticks\":\"\"},\"colorscale\":[[0.0,\"#0d0887\"],[0.1111111111111111,\"#46039f\"],[0.2222222222222222,\"#7201a8\"],[0.3333333333333333,\"#9c179e\"],[0.4444444444444444,\"#bd3786\"],[0.5555555555555556,\"#d8576b\"],[0.6666666666666666,\"#ed7953\"],[0.7777777777777778,\"#fb9f3a\"],[0.8888888888888888,\"#fdca26\"],[1.0,\"#f0f921\"]],\"type\":\"heatmap\"}],\"heatmapgl\":[{\"colorbar\":{\"outlinewidth\":0,\"ticks\":\"\"},\"colorscale\":[[0.0,\"#0d0887\"],[0.1111111111111111,\"#46039f\"],[0.2222222222222222,\"#7201a8\"],[0.3333333333333333,\"#9c179e\"],[0.4444444444444444,\"#bd3786\"],[0.5555555555555556,\"#d8576b\"],[0.6666666666666666,\"#ed7953\"],[0.7777777777777778,\"#fb9f3a\"],[0.8888888888888888,\"#fdca26\"],[1.0,\"#f0f921\"]],\"type\":\"heatmapgl\"}],\"histogram\":[{\"marker\":{\"pattern\":{\"fillmode\":\"overlay\",\"size\":10,\"solidity\":0.2}},\"type\":\"histogram\"}],\"histogram2d\":[{\"colorbar\":{\"outlinewidth\":0,\"ticks\":\"\"},\"colorscale\":[[0.0,\"#0d0887\"],[0.1111111111111111,\"#46039f\"],[0.2222222222222222,\"#7201a8\"],[0.3333333333333333,\"#9c179e\"],[0.4444444444444444,\"#bd3786\"],[0.5555555555555556,\"#d8576b\"],[0.6666666666666666,\"#ed7953\"],[0.7777777777777778,\"#fb9f3a\"],[0.8888888888888888,\"#fdca26\"],[1.0,\"#f0f921\"]],\"type\":\"histogram2d\"}],\"histogram2dcontour\":[{\"colorbar\":{\"outlinewidth\":0,\"ticks\":\"\"},\"colorscale\":[[0.0,\"#0d0887\"],[0.1111111111111111,\"#46039f\"],[0.2222222222222222,\"#7201a8\"],[0.3333333333333333,\"#9c179e\"],[0.4444444444444444,\"#bd3786\"],[0.5555555555555556,\"#d8576b\"],[0.6666666666666666,\"#ed7953\"],[0.7777777777777778,\"#fb9f3a\"],[0.8888888888888888,\"#fdca26\"],[1.0,\"#f0f921\"]],\"type\":\"histogram2dcontour\"}],\"mesh3d\":[{\"colorbar\":{\"outlinewidth\":0,\"ticks\":\"\"},\"type\":\"mesh3d\"}],\"parcoords\":[{\"line\":{\"colorbar\":{\"outlinewidth\":0,\"ticks\":\"\"}},\"type\":\"parcoords\"}],\"pie\":[{\"automargin\":true,\"type\":\"pie\"}],\"scatter\":[{\"marker\":{\"colorbar\":{\"outlinewidth\":0,\"ticks\":\"\"}},\"type\":\"scatter\"}],\"scatter3d\":[{\"line\":{\"colorbar\":{\"outlinewidth\":0,\"ticks\":\"\"}},\"marker\":{\"colorbar\":{\"outlinewidth\":0,\"ticks\":\"\"}},\"type\":\"scatter3d\"}],\"scattercarpet\":[{\"marker\":{\"colorbar\":{\"outlinewidth\":0,\"ticks\":\"\"}},\"type\":\"scattercarpet\"}],\"scattergeo\":[{\"marker\":{\"colorbar\":{\"outlinewidth\":0,\"ticks\":\"\"}},\"type\":\"scattergeo\"}],\"scattergl\":[{\"marker\":{\"colorbar\":{\"outlinewidth\":0,\"ticks\":\"\"}},\"type\":\"scattergl\"}],\"scattermapbox\":[{\"marker\":{\"colorbar\":{\"outlinewidth\":0,\"ticks\":\"\"}},\"type\":\"scattermapbox\"}],\"scatterpolar\":[{\"marker\":{\"colorbar\":{\"outlinewidth\":0,\"ticks\":\"\"}},\"type\":\"scatterpolar\"}],\"scatterpolargl\":[{\"marker\":{\"colorbar\":{\"outlinewidth\":0,\"ticks\":\"\"}},\"type\":\"scatterpolargl\"}],\"scatterternary\":[{\"marker\":{\"colorbar\":{\"outlinewidth\":0,\"ticks\":\"\"}},\"type\":\"scatterternary\"}],\"surface\":[{\"colorbar\":{\"outlinewidth\":0,\"ticks\":\"\"},\"colorscale\":[[0.0,\"#0d0887\"],[0.1111111111111111,\"#46039f\"],[0.2222222222222222,\"#7201a8\"],[0.3333333333333333,\"#9c179e\"],[0.4444444444444444,\"#bd3786\"],[0.5555555555555556,\"#d8576b\"],[0.6666666666666666,\"#ed7953\"],[0.7777777777777778,\"#fb9f3a\"],[0.8888888888888888,\"#fdca26\"],[1.0,\"#f0f921\"]],\"type\":\"surface\"}],\"table\":[{\"cells\":{\"fill\":{\"color\":\"#EBF0F8\"},\"line\":{\"color\":\"white\"}},\"header\":{\"fill\":{\"color\":\"#C8D4E3\"},\"line\":{\"color\":\"white\"}},\"type\":\"table\"}]},\"layout\":{\"annotationdefaults\":{\"arrowcolor\":\"#2a3f5f\",\"arrowhead\":0,\"arrowwidth\":1},\"autotypenumbers\":\"strict\",\"coloraxis\":{\"colorbar\":{\"outlinewidth\":0,\"ticks\":\"\"}},\"colorscale\":{\"diverging\":[[0,\"#8e0152\"],[0.1,\"#c51b7d\"],[0.2,\"#de77ae\"],[0.3,\"#f1b6da\"],[0.4,\"#fde0ef\"],[0.5,\"#f7f7f7\"],[0.6,\"#e6f5d0\"],[0.7,\"#b8e186\"],[0.8,\"#7fbc41\"],[0.9,\"#4d9221\"],[1,\"#276419\"]],\"sequential\":[[0.0,\"#0d0887\"],[0.1111111111111111,\"#46039f\"],[0.2222222222222222,\"#7201a8\"],[0.3333333333333333,\"#9c179e\"],[0.4444444444444444,\"#bd3786\"],[0.5555555555555556,\"#d8576b\"],[0.6666666666666666,\"#ed7953\"],[0.7777777777777778,\"#fb9f3a\"],[0.8888888888888888,\"#fdca26\"],[1.0,\"#f0f921\"]],\"sequentialminus\":[[0.0,\"#0d0887\"],[0.1111111111111111,\"#46039f\"],[0.2222222222222222,\"#7201a8\"],[0.3333333333333333,\"#9c179e\"],[0.4444444444444444,\"#bd3786\"],[0.5555555555555556,\"#d8576b\"],[0.6666666666666666,\"#ed7953\"],[0.7777777777777778,\"#fb9f3a\"],[0.8888888888888888,\"#fdca26\"],[1.0,\"#f0f921\"]]},\"colorway\":[\"#636efa\",\"#EF553B\",\"#00cc96\",\"#ab63fa\",\"#FFA15A\",\"#19d3f3\",\"#FF6692\",\"#B6E880\",\"#FF97FF\",\"#FECB52\"],\"font\":{\"color\":\"#2a3f5f\"},\"geo\":{\"bgcolor\":\"white\",\"lakecolor\":\"white\",\"landcolor\":\"#E5ECF6\",\"showlakes\":true,\"showland\":true,\"subunitcolor\":\"white\"},\"hoverlabel\":{\"align\":\"left\"},\"hovermode\":\"closest\",\"mapbox\":{\"style\":\"light\"},\"paper_bgcolor\":\"white\",\"plot_bgcolor\":\"#E5ECF6\",\"polar\":{\"angularaxis\":{\"gridcolor\":\"white\",\"linecolor\":\"white\",\"ticks\":\"\"},\"bgcolor\":\"#E5ECF6\",\"radialaxis\":{\"gridcolor\":\"white\",\"linecolor\":\"white\",\"ticks\":\"\"}},\"scene\":{\"xaxis\":{\"backgroundcolor\":\"#E5ECF6\",\"gridcolor\":\"white\",\"gridwidth\":2,\"linecolor\":\"white\",\"showbackground\":true,\"ticks\":\"\",\"zerolinecolor\":\"white\"},\"yaxis\":{\"backgroundcolor\":\"#E5ECF6\",\"gridcolor\":\"white\",\"gridwidth\":2,\"linecolor\":\"white\",\"showbackground\":true,\"ticks\":\"\",\"zerolinecolor\":\"white\"},\"zaxis\":{\"backgroundcolor\":\"#E5ECF6\",\"gridcolor\":\"white\",\"gridwidth\":2,\"linecolor\":\"white\",\"showbackground\":true,\"ticks\":\"\",\"zerolinecolor\":\"white\"}},\"shapedefaults\":{\"line\":{\"color\":\"#2a3f5f\"}},\"ternary\":{\"aaxis\":{\"gridcolor\":\"white\",\"linecolor\":\"white\",\"ticks\":\"\"},\"baxis\":{\"gridcolor\":\"white\",\"linecolor\":\"white\",\"ticks\":\"\"},\"bgcolor\":\"#E5ECF6\",\"caxis\":{\"gridcolor\":\"white\",\"linecolor\":\"white\",\"ticks\":\"\"}},\"title\":{\"x\":0.05},\"xaxis\":{\"automargin\":true,\"gridcolor\":\"white\",\"linecolor\":\"white\",\"ticks\":\"\",\"title\":{\"standoff\":15},\"zerolinecolor\":\"white\",\"zerolinewidth\":2},\"yaxis\":{\"automargin\":true,\"gridcolor\":\"white\",\"linecolor\":\"white\",\"ticks\":\"\",\"title\":{\"standoff\":15},\"zerolinecolor\":\"white\",\"zerolinewidth\":2}}},\"scene\":{\"domain\":{\"x\":[0.0,1.0],\"y\":[0.0,1.0]},\"xaxis\":{\"title\":{\"text\":\"fe1_square\"}},\"yaxis\":{\"title\":{\"text\":\"fe2_square\"}},\"zaxis\":{\"title\":{\"text\":\"Fe1_Fe2\"}}},\"coloraxis\":{\"colorbar\":{\"title\":{\"text\":\"label_y\"}},\"colorscale\":[[0.0,\"#0d0887\"],[0.1111111111111111,\"#46039f\"],[0.2222222222222222,\"#7201a8\"],[0.3333333333333333,\"#9c179e\"],[0.4444444444444444,\"#bd3786\"],[0.5555555555555556,\"#d8576b\"],[0.6666666666666666,\"#ed7953\"],[0.7777777777777778,\"#fb9f3a\"],[0.8888888888888888,\"#fdca26\"],[1.0,\"#f0f921\"]]},\"legend\":{\"tracegroupgap\":0},\"margin\":{\"t\":60}},                        {\"responsive\": true}                    ).then(function(){\n",
              "                            \n",
              "var gd = document.getElementById('289db8ba-f56c-4290-b4d2-c968f8955852');\n",
              "var x = new MutationObserver(function (mutations, observer) {{\n",
              "        var display = window.getComputedStyle(gd).display;\n",
              "        if (!display || display === 'none') {{\n",
              "            console.log([gd, 'removed!']);\n",
              "            Plotly.purge(gd);\n",
              "            observer.disconnect();\n",
              "        }}\n",
              "}});\n",
              "\n",
              "// Listen for the removal of the full notebook cells\n",
              "var notebookContainer = gd.closest('#notebook-container');\n",
              "if (notebookContainer) {{\n",
              "    x.observe(notebookContainer, {childList: true});\n",
              "}}\n",
              "\n",
              "// Listen for the clearing of the current output cell\n",
              "var outputEl = gd.closest('.output');\n",
              "if (outputEl) {{\n",
              "    x.observe(outputEl, {childList: true});\n",
              "}}\n",
              "\n",
              "                        })                };                            </script>        </div>\n",
              "</body>\n",
              "</html>"
            ]
          },
          "metadata": {}
        }
      ],
      "source": [
        "import plotly.express as px\n",
        "px.scatter_3d(df , x='fe1_square' , y='fe2_square' , z='Fe1_Fe2',color='label_y')"
      ]
    },
    {
      "cell_type": "code",
      "execution_count": 27,
      "id": "217366a0",
      "metadata": {
        "id": "217366a0"
      },
      "outputs": [],
      "source": [
        "x = df.drop('label_y', axis=1)"
      ]
    },
    {
      "cell_type": "code",
      "execution_count": 28,
      "id": "cff92f40",
      "metadata": {
        "id": "cff92f40"
      },
      "outputs": [],
      "source": [
        "y = df['label_y']"
      ]
    },
    {
      "cell_type": "code",
      "execution_count": 29,
      "id": "ed523b9f",
      "metadata": {
        "id": "ed523b9f",
        "outputId": "82d417f3-2202-40c8-e623-7b961c97c998",
        "colab": {
          "base_uri": "https://localhost:8080/"
        }
      },
      "outputs": [
        {
          "output_type": "execute_result",
          "data": {
            "text/plain": [
              "0    0\n",
              "1    0\n",
              "2    0\n",
              "3    0\n",
              "4    0\n",
              "Name: label_y, dtype: int64"
            ]
          },
          "metadata": {},
          "execution_count": 29
        }
      ],
      "source": [
        "y.head()"
      ]
    },
    {
      "cell_type": "code",
      "execution_count": 30,
      "id": "0eeafddb",
      "metadata": {
        "id": "0eeafddb",
        "outputId": "6c775e54-2e80-44ac-9dc9-e04314cac2f6",
        "colab": {
          "base_uri": "https://localhost:8080/",
          "height": 206
        }
      },
      "outputs": [
        {
          "output_type": "execute_result",
          "data": {
            "text/plain": [
              "   feature1  feature2  fe1_square  fe2_square    Fe1_Fe2\n",
              "0  8.660254  -5.00000   75.000000   25.000000 -43.301270\n",
              "1  8.717792  -4.89899   75.999898   24.000102 -42.708375\n",
              "2  8.773790  -4.79798   76.979390   23.020610 -42.096467\n",
              "3  8.828277  -4.69697   77.938476   22.061524 -41.466150\n",
              "4  8.881281  -4.59596   78.877155   21.122845 -40.818009"
            ],
            "text/html": [
              "\n",
              "  <div id=\"df-dd36cf65-963e-4915-bd81-15347aeebf34\">\n",
              "    <div class=\"colab-df-container\">\n",
              "      <div>\n",
              "<style scoped>\n",
              "    .dataframe tbody tr th:only-of-type {\n",
              "        vertical-align: middle;\n",
              "    }\n",
              "\n",
              "    .dataframe tbody tr th {\n",
              "        vertical-align: top;\n",
              "    }\n",
              "\n",
              "    .dataframe thead th {\n",
              "        text-align: right;\n",
              "    }\n",
              "</style>\n",
              "<table border=\"1\" class=\"dataframe\">\n",
              "  <thead>\n",
              "    <tr style=\"text-align: right;\">\n",
              "      <th></th>\n",
              "      <th>feature1</th>\n",
              "      <th>feature2</th>\n",
              "      <th>fe1_square</th>\n",
              "      <th>fe2_square</th>\n",
              "      <th>Fe1_Fe2</th>\n",
              "    </tr>\n",
              "  </thead>\n",
              "  <tbody>\n",
              "    <tr>\n",
              "      <th>0</th>\n",
              "      <td>8.660254</td>\n",
              "      <td>-5.00000</td>\n",
              "      <td>75.000000</td>\n",
              "      <td>25.000000</td>\n",
              "      <td>-43.301270</td>\n",
              "    </tr>\n",
              "    <tr>\n",
              "      <th>1</th>\n",
              "      <td>8.717792</td>\n",
              "      <td>-4.89899</td>\n",
              "      <td>75.999898</td>\n",
              "      <td>24.000102</td>\n",
              "      <td>-42.708375</td>\n",
              "    </tr>\n",
              "    <tr>\n",
              "      <th>2</th>\n",
              "      <td>8.773790</td>\n",
              "      <td>-4.79798</td>\n",
              "      <td>76.979390</td>\n",
              "      <td>23.020610</td>\n",
              "      <td>-42.096467</td>\n",
              "    </tr>\n",
              "    <tr>\n",
              "      <th>3</th>\n",
              "      <td>8.828277</td>\n",
              "      <td>-4.69697</td>\n",
              "      <td>77.938476</td>\n",
              "      <td>22.061524</td>\n",
              "      <td>-41.466150</td>\n",
              "    </tr>\n",
              "    <tr>\n",
              "      <th>4</th>\n",
              "      <td>8.881281</td>\n",
              "      <td>-4.59596</td>\n",
              "      <td>78.877155</td>\n",
              "      <td>21.122845</td>\n",
              "      <td>-40.818009</td>\n",
              "    </tr>\n",
              "  </tbody>\n",
              "</table>\n",
              "</div>\n",
              "      <button class=\"colab-df-convert\" onclick=\"convertToInteractive('df-dd36cf65-963e-4915-bd81-15347aeebf34')\"\n",
              "              title=\"Convert this dataframe to an interactive table.\"\n",
              "              style=\"display:none;\">\n",
              "        \n",
              "  <svg xmlns=\"http://www.w3.org/2000/svg\" height=\"24px\"viewBox=\"0 0 24 24\"\n",
              "       width=\"24px\">\n",
              "    <path d=\"M0 0h24v24H0V0z\" fill=\"none\"/>\n",
              "    <path d=\"M18.56 5.44l.94 2.06.94-2.06 2.06-.94-2.06-.94-.94-2.06-.94 2.06-2.06.94zm-11 1L8.5 8.5l.94-2.06 2.06-.94-2.06-.94L8.5 2.5l-.94 2.06-2.06.94zm10 10l.94 2.06.94-2.06 2.06-.94-2.06-.94-.94-2.06-.94 2.06-2.06.94z\"/><path d=\"M17.41 7.96l-1.37-1.37c-.4-.4-.92-.59-1.43-.59-.52 0-1.04.2-1.43.59L10.3 9.45l-7.72 7.72c-.78.78-.78 2.05 0 2.83L4 21.41c.39.39.9.59 1.41.59.51 0 1.02-.2 1.41-.59l7.78-7.78 2.81-2.81c.8-.78.8-2.07 0-2.86zM5.41 20L4 18.59l7.72-7.72 1.47 1.35L5.41 20z\"/>\n",
              "  </svg>\n",
              "      </button>\n",
              "      \n",
              "  <style>\n",
              "    .colab-df-container {\n",
              "      display:flex;\n",
              "      flex-wrap:wrap;\n",
              "      gap: 12px;\n",
              "    }\n",
              "\n",
              "    .colab-df-convert {\n",
              "      background-color: #E8F0FE;\n",
              "      border: none;\n",
              "      border-radius: 50%;\n",
              "      cursor: pointer;\n",
              "      display: none;\n",
              "      fill: #1967D2;\n",
              "      height: 32px;\n",
              "      padding: 0 0 0 0;\n",
              "      width: 32px;\n",
              "    }\n",
              "\n",
              "    .colab-df-convert:hover {\n",
              "      background-color: #E2EBFA;\n",
              "      box-shadow: 0px 1px 2px rgba(60, 64, 67, 0.3), 0px 1px 3px 1px rgba(60, 64, 67, 0.15);\n",
              "      fill: #174EA6;\n",
              "    }\n",
              "\n",
              "    [theme=dark] .colab-df-convert {\n",
              "      background-color: #3B4455;\n",
              "      fill: #D2E3FC;\n",
              "    }\n",
              "\n",
              "    [theme=dark] .colab-df-convert:hover {\n",
              "      background-color: #434B5C;\n",
              "      box-shadow: 0px 1px 3px 1px rgba(0, 0, 0, 0.15);\n",
              "      filter: drop-shadow(0px 1px 2px rgba(0, 0, 0, 0.3));\n",
              "      fill: #FFFFFF;\n",
              "    }\n",
              "  </style>\n",
              "\n",
              "      <script>\n",
              "        const buttonEl =\n",
              "          document.querySelector('#df-dd36cf65-963e-4915-bd81-15347aeebf34 button.colab-df-convert');\n",
              "        buttonEl.style.display =\n",
              "          google.colab.kernel.accessAllowed ? 'block' : 'none';\n",
              "\n",
              "        async function convertToInteractive(key) {\n",
              "          const element = document.querySelector('#df-dd36cf65-963e-4915-bd81-15347aeebf34');\n",
              "          const dataTable =\n",
              "            await google.colab.kernel.invokeFunction('convertToInteractive',\n",
              "                                                     [key], {});\n",
              "          if (!dataTable) return;\n",
              "\n",
              "          const docLinkHtml = 'Like what you see? Visit the ' +\n",
              "            '<a target=\"_blank\" href=https://colab.research.google.com/notebooks/data_table.ipynb>data table notebook</a>'\n",
              "            + ' to learn more about interactive tables.';\n",
              "          element.innerHTML = '';\n",
              "          dataTable['output_type'] = 'display_data';\n",
              "          await google.colab.output.renderOutput(dataTable, element);\n",
              "          const docLink = document.createElement('div');\n",
              "          docLink.innerHTML = docLinkHtml;\n",
              "          element.appendChild(docLink);\n",
              "        }\n",
              "      </script>\n",
              "    </div>\n",
              "  </div>\n",
              "  "
            ]
          },
          "metadata": {},
          "execution_count": 30
        }
      ],
      "source": [
        "x.head()"
      ]
    },
    {
      "cell_type": "code",
      "execution_count": 31,
      "id": "488f2cd3",
      "metadata": {
        "id": "488f2cd3"
      },
      "outputs": [],
      "source": [
        "xtrain, xtest, ytrain, ytest = train_test_split(x,y , test_size=.30, random_state=100 )"
      ]
    },
    {
      "cell_type": "code",
      "execution_count": 32,
      "id": "5a9a4ba3",
      "metadata": {
        "id": "5a9a4ba3",
        "outputId": "37c9e23e-0a00-40b0-929f-08d93a37b7bc",
        "colab": {
          "base_uri": "https://localhost:8080/",
          "height": 424
        }
      },
      "outputs": [
        {
          "output_type": "execute_result",
          "data": {
            "text/plain": [
              "     feature1  feature2  fe1_square  fe2_square    Fe1_Fe2\n",
              "234  4.748549 -1.565657   22.548720    2.451280  -7.434597\n",
              "45   9.989664 -0.454545   99.793388    0.206612  -4.540756\n",
              "171 -9.761334 -2.171717   95.283645    4.716355  21.198857\n",
              "47   9.996811 -0.252525   99.936231    0.063769  -2.524447\n",
              "265  4.748549  1.565657   22.548720    2.451280   7.434597\n",
              "..        ...       ...         ...         ...        ...\n",
              "343 -4.956705  0.656566   24.568922    0.431078  -3.254402\n",
              "359 -4.907054 -0.959596   24.079176    0.920824   4.708789\n",
              "323 -4.223140  2.676768   17.834915    7.165085 -11.304366\n",
              "280  3.938099  3.080808   15.508622    9.491378  12.132526\n",
              "8    9.078976 -4.191919   82.427813   17.572187 -38.058336\n",
              "\n",
              "[280 rows x 5 columns]"
            ],
            "text/html": [
              "\n",
              "  <div id=\"df-f99f78ac-1e1a-4cac-a7ce-391e22fc1bde\">\n",
              "    <div class=\"colab-df-container\">\n",
              "      <div>\n",
              "<style scoped>\n",
              "    .dataframe tbody tr th:only-of-type {\n",
              "        vertical-align: middle;\n",
              "    }\n",
              "\n",
              "    .dataframe tbody tr th {\n",
              "        vertical-align: top;\n",
              "    }\n",
              "\n",
              "    .dataframe thead th {\n",
              "        text-align: right;\n",
              "    }\n",
              "</style>\n",
              "<table border=\"1\" class=\"dataframe\">\n",
              "  <thead>\n",
              "    <tr style=\"text-align: right;\">\n",
              "      <th></th>\n",
              "      <th>feature1</th>\n",
              "      <th>feature2</th>\n",
              "      <th>fe1_square</th>\n",
              "      <th>fe2_square</th>\n",
              "      <th>Fe1_Fe2</th>\n",
              "    </tr>\n",
              "  </thead>\n",
              "  <tbody>\n",
              "    <tr>\n",
              "      <th>234</th>\n",
              "      <td>4.748549</td>\n",
              "      <td>-1.565657</td>\n",
              "      <td>22.548720</td>\n",
              "      <td>2.451280</td>\n",
              "      <td>-7.434597</td>\n",
              "    </tr>\n",
              "    <tr>\n",
              "      <th>45</th>\n",
              "      <td>9.989664</td>\n",
              "      <td>-0.454545</td>\n",
              "      <td>99.793388</td>\n",
              "      <td>0.206612</td>\n",
              "      <td>-4.540756</td>\n",
              "    </tr>\n",
              "    <tr>\n",
              "      <th>171</th>\n",
              "      <td>-9.761334</td>\n",
              "      <td>-2.171717</td>\n",
              "      <td>95.283645</td>\n",
              "      <td>4.716355</td>\n",
              "      <td>21.198857</td>\n",
              "    </tr>\n",
              "    <tr>\n",
              "      <th>47</th>\n",
              "      <td>9.996811</td>\n",
              "      <td>-0.252525</td>\n",
              "      <td>99.936231</td>\n",
              "      <td>0.063769</td>\n",
              "      <td>-2.524447</td>\n",
              "    </tr>\n",
              "    <tr>\n",
              "      <th>265</th>\n",
              "      <td>4.748549</td>\n",
              "      <td>1.565657</td>\n",
              "      <td>22.548720</td>\n",
              "      <td>2.451280</td>\n",
              "      <td>7.434597</td>\n",
              "    </tr>\n",
              "    <tr>\n",
              "      <th>...</th>\n",
              "      <td>...</td>\n",
              "      <td>...</td>\n",
              "      <td>...</td>\n",
              "      <td>...</td>\n",
              "      <td>...</td>\n",
              "    </tr>\n",
              "    <tr>\n",
              "      <th>343</th>\n",
              "      <td>-4.956705</td>\n",
              "      <td>0.656566</td>\n",
              "      <td>24.568922</td>\n",
              "      <td>0.431078</td>\n",
              "      <td>-3.254402</td>\n",
              "    </tr>\n",
              "    <tr>\n",
              "      <th>359</th>\n",
              "      <td>-4.907054</td>\n",
              "      <td>-0.959596</td>\n",
              "      <td>24.079176</td>\n",
              "      <td>0.920824</td>\n",
              "      <td>4.708789</td>\n",
              "    </tr>\n",
              "    <tr>\n",
              "      <th>323</th>\n",
              "      <td>-4.223140</td>\n",
              "      <td>2.676768</td>\n",
              "      <td>17.834915</td>\n",
              "      <td>7.165085</td>\n",
              "      <td>-11.304366</td>\n",
              "    </tr>\n",
              "    <tr>\n",
              "      <th>280</th>\n",
              "      <td>3.938099</td>\n",
              "      <td>3.080808</td>\n",
              "      <td>15.508622</td>\n",
              "      <td>9.491378</td>\n",
              "      <td>12.132526</td>\n",
              "    </tr>\n",
              "    <tr>\n",
              "      <th>8</th>\n",
              "      <td>9.078976</td>\n",
              "      <td>-4.191919</td>\n",
              "      <td>82.427813</td>\n",
              "      <td>17.572187</td>\n",
              "      <td>-38.058336</td>\n",
              "    </tr>\n",
              "  </tbody>\n",
              "</table>\n",
              "<p>280 rows × 5 columns</p>\n",
              "</div>\n",
              "      <button class=\"colab-df-convert\" onclick=\"convertToInteractive('df-f99f78ac-1e1a-4cac-a7ce-391e22fc1bde')\"\n",
              "              title=\"Convert this dataframe to an interactive table.\"\n",
              "              style=\"display:none;\">\n",
              "        \n",
              "  <svg xmlns=\"http://www.w3.org/2000/svg\" height=\"24px\"viewBox=\"0 0 24 24\"\n",
              "       width=\"24px\">\n",
              "    <path d=\"M0 0h24v24H0V0z\" fill=\"none\"/>\n",
              "    <path d=\"M18.56 5.44l.94 2.06.94-2.06 2.06-.94-2.06-.94-.94-2.06-.94 2.06-2.06.94zm-11 1L8.5 8.5l.94-2.06 2.06-.94-2.06-.94L8.5 2.5l-.94 2.06-2.06.94zm10 10l.94 2.06.94-2.06 2.06-.94-2.06-.94-.94-2.06-.94 2.06-2.06.94z\"/><path d=\"M17.41 7.96l-1.37-1.37c-.4-.4-.92-.59-1.43-.59-.52 0-1.04.2-1.43.59L10.3 9.45l-7.72 7.72c-.78.78-.78 2.05 0 2.83L4 21.41c.39.39.9.59 1.41.59.51 0 1.02-.2 1.41-.59l7.78-7.78 2.81-2.81c.8-.78.8-2.07 0-2.86zM5.41 20L4 18.59l7.72-7.72 1.47 1.35L5.41 20z\"/>\n",
              "  </svg>\n",
              "      </button>\n",
              "      \n",
              "  <style>\n",
              "    .colab-df-container {\n",
              "      display:flex;\n",
              "      flex-wrap:wrap;\n",
              "      gap: 12px;\n",
              "    }\n",
              "\n",
              "    .colab-df-convert {\n",
              "      background-color: #E8F0FE;\n",
              "      border: none;\n",
              "      border-radius: 50%;\n",
              "      cursor: pointer;\n",
              "      display: none;\n",
              "      fill: #1967D2;\n",
              "      height: 32px;\n",
              "      padding: 0 0 0 0;\n",
              "      width: 32px;\n",
              "    }\n",
              "\n",
              "    .colab-df-convert:hover {\n",
              "      background-color: #E2EBFA;\n",
              "      box-shadow: 0px 1px 2px rgba(60, 64, 67, 0.3), 0px 1px 3px 1px rgba(60, 64, 67, 0.15);\n",
              "      fill: #174EA6;\n",
              "    }\n",
              "\n",
              "    [theme=dark] .colab-df-convert {\n",
              "      background-color: #3B4455;\n",
              "      fill: #D2E3FC;\n",
              "    }\n",
              "\n",
              "    [theme=dark] .colab-df-convert:hover {\n",
              "      background-color: #434B5C;\n",
              "      box-shadow: 0px 1px 3px 1px rgba(0, 0, 0, 0.15);\n",
              "      filter: drop-shadow(0px 1px 2px rgba(0, 0, 0, 0.3));\n",
              "      fill: #FFFFFF;\n",
              "    }\n",
              "  </style>\n",
              "\n",
              "      <script>\n",
              "        const buttonEl =\n",
              "          document.querySelector('#df-f99f78ac-1e1a-4cac-a7ce-391e22fc1bde button.colab-df-convert');\n",
              "        buttonEl.style.display =\n",
              "          google.colab.kernel.accessAllowed ? 'block' : 'none';\n",
              "\n",
              "        async function convertToInteractive(key) {\n",
              "          const element = document.querySelector('#df-f99f78ac-1e1a-4cac-a7ce-391e22fc1bde');\n",
              "          const dataTable =\n",
              "            await google.colab.kernel.invokeFunction('convertToInteractive',\n",
              "                                                     [key], {});\n",
              "          if (!dataTable) return;\n",
              "\n",
              "          const docLinkHtml = 'Like what you see? Visit the ' +\n",
              "            '<a target=\"_blank\" href=https://colab.research.google.com/notebooks/data_table.ipynb>data table notebook</a>'\n",
              "            + ' to learn more about interactive tables.';\n",
              "          element.innerHTML = '';\n",
              "          dataTable['output_type'] = 'display_data';\n",
              "          await google.colab.output.renderOutput(dataTable, element);\n",
              "          const docLink = document.createElement('div');\n",
              "          docLink.innerHTML = docLinkHtml;\n",
              "          element.appendChild(docLink);\n",
              "        }\n",
              "      </script>\n",
              "    </div>\n",
              "  </div>\n",
              "  "
            ]
          },
          "metadata": {},
          "execution_count": 32
        }
      ],
      "source": [
        "xtrain"
      ]
    },
    {
      "cell_type": "code",
      "execution_count": 33,
      "id": "2c0df8e1",
      "metadata": {
        "id": "2c0df8e1"
      },
      "outputs": [],
      "source": [
        "from sklearn.svm import SVC\n",
        "svm = SVC(kernel='linear')"
      ]
    },
    {
      "cell_type": "code",
      "execution_count": 34,
      "id": "3d1d0cf7",
      "metadata": {
        "id": "3d1d0cf7",
        "outputId": "bf184e47-b0b0-4076-b2d6-0c311d7e9350",
        "colab": {
          "base_uri": "https://localhost:8080/"
        }
      },
      "outputs": [
        {
          "output_type": "execute_result",
          "data": {
            "text/plain": [
              "SVC(kernel='linear')"
            ]
          },
          "metadata": {},
          "execution_count": 34
        }
      ],
      "source": [
        "svm.fit(xtrain, ytrain)"
      ]
    },
    {
      "cell_type": "code",
      "execution_count": 35,
      "id": "abc58262",
      "metadata": {
        "id": "abc58262",
        "outputId": "eb23ebc0-c745-47db-8591-2a2d6a62d7db",
        "colab": {
          "base_uri": "https://localhost:8080/"
        }
      },
      "outputs": [
        {
          "output_type": "execute_result",
          "data": {
            "text/plain": [
              "1.0"
            ]
          },
          "metadata": {},
          "execution_count": 35
        }
      ],
      "source": [
        "svm.score(xtest, ytest)"
      ]
    },
    {
      "cell_type": "code",
      "execution_count": 36,
      "id": "53e07ee2",
      "metadata": {
        "id": "53e07ee2"
      },
      "outputs": [],
      "source": [
        "from sklearn.svm import SVC\n",
        "svm = SVC(kernel='rbf')"
      ]
    },
    {
      "cell_type": "code",
      "execution_count": 37,
      "id": "11251c22",
      "metadata": {
        "id": "11251c22",
        "outputId": "129df199-3a25-4edb-e263-a378fcb3f42c",
        "colab": {
          "base_uri": "https://localhost:8080/"
        }
      },
      "outputs": [
        {
          "output_type": "execute_result",
          "data": {
            "text/plain": [
              "SVC()"
            ]
          },
          "metadata": {},
          "execution_count": 37
        }
      ],
      "source": [
        "svm.fit(xtrain,ytrain)"
      ]
    },
    {
      "cell_type": "code",
      "execution_count": 38,
      "id": "e23b0789",
      "metadata": {
        "id": "e23b0789",
        "outputId": "99b588cc-592c-493a-fa05-1331367280fa",
        "colab": {
          "base_uri": "https://localhost:8080/"
        }
      },
      "outputs": [
        {
          "output_type": "execute_result",
          "data": {
            "text/plain": [
              "1.0"
            ]
          },
          "metadata": {},
          "execution_count": 38
        }
      ],
      "source": [
        "svm.score(xtest, ytest)"
      ]
    },
    {
      "cell_type": "code",
      "source": [
        "svm.predict([[-4.956705,0.656566,24.568922,0.431078,-3.254402]])"
      ],
      "metadata": {
        "colab": {
          "base_uri": "https://localhost:8080/"
        },
        "id": "9VFx3HtK5edW",
        "outputId": "470068c6-04e1-4413-88bd-f12a8e9da40f"
      },
      "id": "9VFx3HtK5edW",
      "execution_count": 39,
      "outputs": [
        {
          "output_type": "stream",
          "name": "stderr",
          "text": [
            "/usr/local/lib/python3.7/dist-packages/sklearn/base.py:451: UserWarning:\n",
            "\n",
            "X does not have valid feature names, but SVC was fitted with feature names\n",
            "\n"
          ]
        },
        {
          "output_type": "execute_result",
          "data": {
            "text/plain": [
              "array([1])"
            ]
          },
          "metadata": {},
          "execution_count": 39
        }
      ]
    }
  ],
  "metadata": {
    "kernelspec": {
      "display_name": "Python 3",
      "language": "python",
      "name": "python3"
    },
    "language_info": {
      "codemirror_mode": {
        "name": "ipython",
        "version": 3
      },
      "file_extension": ".py",
      "mimetype": "text/x-python",
      "name": "python",
      "nbconvert_exporter": "python",
      "pygments_lexer": "ipython3",
      "version": "3.8.8"
    },
    "colab": {
      "name": "Lecture-11, SVM.ipynb",
      "provenance": []
    }
  },
  "nbformat": 4,
  "nbformat_minor": 5
}